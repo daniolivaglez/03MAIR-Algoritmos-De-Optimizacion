{
  "nbformat": 4,
  "nbformat_minor": 0,
  "metadata": {
    "colab": {
      "name": "Daniel Oliva - AG1.ipynb",
      "provenance": [],
      "authorship_tag": "ABX9TyMIjezipb1HZi1Ov16dvVyl",
      "include_colab_link": true
    },
    "kernelspec": {
      "name": "python3",
      "display_name": "Python 3"
    }
  },
  "cells": [
    {
      "cell_type": "markdown",
      "metadata": {
        "id": "view-in-github",
        "colab_type": "text"
      },
      "source": [
        "<a href=\"https://colab.research.google.com/github/daniolivaglez/03MAIR-Algoritmos-De-Optimizacion/blob/main/AG1/Daniel_Oliva_AG1.ipynb\" target=\"_parent\"><img src=\"https://colab.research.google.com/assets/colab-badge.svg\" alt=\"Open In Colab\"/></a>"
      ]
    },
    {
      "cell_type": "markdown",
      "metadata": {
        "id": "EiANmorFAswq"
      },
      "source": [
        "# Algoritmos de Optimización: Actividad Guiada 1\r\n",
        "Nombre: Daniel Oliva González <br>\r\n",
        "Url: https://colab.research.google.com/drive/1wOlJG_9sSY7Cjps24v6N3KYP8rCOoqbI?usp=sharing \r\n"
      ]
    },
    {
      "cell_type": "markdown",
      "metadata": {
        "id": "8R8dQ0X5DzeK"
      },
      "source": [
        "## Torres de Hanoi con Divide y Vencerás"
      ]
    },
    {
      "cell_type": "code",
      "metadata": {
        "colab": {
          "base_uri": "https://localhost:8080/",
          "height": 0
        },
        "id": "q6pCHJB6BBdc",
        "outputId": "d7b57458-4a63-4c70-89d9-281330049185"
      },
      "source": [
        "def torresHanoi(N, desde, hasta):\n",
        "  if N == 1:\n",
        "    print(\"Lleva la ficha desde\", desde, \"hasta\", hasta)\n",
        "  else:\n",
        "    torresHanoi(N - 1, desde, list({1,2,3}-{desde,hasta})[0])\n",
        "    print(\"Lleva la ficha desde\", desde, \"hasta\", hasta)\n",
        "    torresHanoi(N - 1, list({1,2,3}-{desde,hasta})[0], hasta)\n",
        "\n",
        "torresHanoi(3,1,3)"
      ],
      "execution_count": 12,
      "outputs": [
        {
          "output_type": "stream",
          "text": [
            "Lleva la ficha desde 1 hasta 3\n",
            "Lleva la ficha desde 1 hasta 2\n",
            "Lleva la ficha desde 3 hasta 2\n",
            "Lleva la ficha desde 1 hasta 3\n",
            "Lleva la ficha desde 2 hasta 1\n",
            "Lleva la ficha desde 2 hasta 3\n",
            "Lleva la ficha desde 1 hasta 3\n"
          ],
          "name": "stdout"
        }
      ]
    },
    {
      "cell_type": "markdown",
      "metadata": {
        "id": "aXrfyoeJPqlE"
      },
      "source": [
        "## Devolución de cambio con Algoritmos Voraces"
      ]
    },
    {
      "cell_type": "code",
      "metadata": {
        "colab": {
          "base_uri": "https://localhost:8080/",
          "height": 0
        },
        "id": "xb5UytJVN6gW",
        "outputId": "a457644b-d6cf-4c95-af0e-419b527919a6"
      },
      "source": [
        "def cambioMonedas(cantidad, sistema):\r\n",
        "  solucion = [0]*len(sistema)\r\n",
        "  valor_actual = 0\r\n",
        "  for i, valor_moneda in enumerate(sistema):\r\n",
        "    monedas = (cantidad-valor_actual)//valor_moneda\r\n",
        "    solucion[i] = monedas\r\n",
        "    valor_actual = valor_actual + monedas*valor_moneda\r\n",
        "    if valor_actual == cantidad:\r\n",
        "      return(solucion)\r\n",
        "\r\n",
        "cambioMonedas(37,[25,10,5,1])"
      ],
      "execution_count": 8,
      "outputs": [
        {
          "output_type": "stream",
          "text": [
            "No existe solución\n",
            "No existe solución\n"
          ],
          "name": "stdout"
        }
      ]
    },
    {
      "cell_type": "markdown",
      "metadata": {
        "id": "BLBSgLKmSSu3"
      },
      "source": [
        "## N-Reinas con Backtracking"
      ]
    },
    {
      "cell_type": "code",
      "metadata": {
        "colab": {
          "base_uri": "https://localhost:8080/",
          "height": 0
        },
        "id": "iAIknBp-SPI9",
        "outputId": "1bc685ba-aa6d-44a3-d8ab-8de553b2e92e"
      },
      "source": [
        "def escribe(solucion):\r\n",
        "  n = len(solucion)\r\n",
        "  for x in range(n):\r\n",
        "    print(\"\")\r\n",
        "    for i in range(n):\r\n",
        "      if solucion[i] == x+1:\r\n",
        "        print(\" X \", end=\"\")\r\n",
        "      else: \r\n",
        "        print(\" - \", end=\"\")\r\n",
        "\r\n",
        "def esPrometedora(solucion, etapa):\r\n",
        "  for i in range(etapa+1):\r\n",
        "    if solucion.count(solucion[i])>1:\r\n",
        "      return False\r\n",
        "    for j in range(i+1,etapa+1):\r\n",
        "      if abs(i-j)==abs(solucion[i]-solucion[j]):\r\n",
        "        return False\r\n",
        "  return True\r\n",
        "\r\n",
        "def nReinas(n, solucion=[], etapa=0):\r\n",
        "  if len(solucion) == 0:\r\n",
        "    solucion = [0 for i in range(n)]\r\n",
        "  for i in range(1, n+1):\r\n",
        "    solucion[etapa] = i\r\n",
        "\r\n",
        "    if esPrometedora(solucion, etapa):\r\n",
        "      if etapa == n-1:\r\n",
        "        print(solucion)\r\n",
        "        escribe(solucion)\r\n",
        "        print()\r\n",
        "      else:\r\n",
        "        nReinas(n, solucion, etapa+1)\r\n",
        "    else: \r\n",
        "      None\r\n",
        "    \r\n",
        "    solucion[etapa] = 0\r\n",
        "\r\n",
        "nReinas(5)\r\n"
      ],
      "execution_count": 21,
      "outputs": [
        {
          "output_type": "stream",
          "text": [
            "[1, 3, 5, 2, 4]\n",
            "\n",
            " X  -  -  -  - \n",
            " -  -  -  X  - \n",
            " -  X  -  -  - \n",
            " -  -  -  -  X \n",
            " -  -  X  -  - \n",
            "[1, 4, 2, 5, 3]\n",
            "\n",
            " X  -  -  -  - \n",
            " -  -  X  -  - \n",
            " -  -  -  -  X \n",
            " -  X  -  -  - \n",
            " -  -  -  X  - \n",
            "[2, 4, 1, 3, 5]\n",
            "\n",
            " -  -  X  -  - \n",
            " X  -  -  -  - \n",
            " -  -  -  X  - \n",
            " -  X  -  -  - \n",
            " -  -  -  -  X \n",
            "[2, 5, 3, 1, 4]\n",
            "\n",
            " -  -  -  X  - \n",
            " X  -  -  -  - \n",
            " -  -  X  -  - \n",
            " -  -  -  -  X \n",
            " -  X  -  -  - \n",
            "[3, 1, 4, 2, 5]\n",
            "\n",
            " -  X  -  -  - \n",
            " -  -  -  X  - \n",
            " X  -  -  -  - \n",
            " -  -  X  -  - \n",
            " -  -  -  -  X \n",
            "[3, 5, 2, 4, 1]\n",
            "\n",
            " -  -  -  -  X \n",
            " -  -  X  -  - \n",
            " X  -  -  -  - \n",
            " -  -  -  X  - \n",
            " -  X  -  -  - \n",
            "[4, 1, 3, 5, 2]\n",
            "\n",
            " -  X  -  -  - \n",
            " -  -  -  -  X \n",
            " -  -  X  -  - \n",
            " X  -  -  -  - \n",
            " -  -  -  X  - \n",
            "[4, 2, 5, 3, 1]\n",
            "\n",
            " -  -  -  -  X \n",
            " -  X  -  -  - \n",
            " -  -  -  X  - \n",
            " X  -  -  -  - \n",
            " -  -  X  -  - \n",
            "[5, 2, 4, 1, 3]\n",
            "\n",
            " -  -  -  X  - \n",
            " -  X  -  -  - \n",
            " -  -  -  -  X \n",
            " -  -  X  -  - \n",
            " X  -  -  -  - \n",
            "[5, 3, 1, 4, 2]\n",
            "\n",
            " -  -  X  -  - \n",
            " -  -  -  -  X \n",
            " -  X  -  -  - \n",
            " -  -  -  X  - \n",
            " X  -  -  -  - \n"
          ],
          "name": "stdout"
        }
      ]
    }
  ]
}