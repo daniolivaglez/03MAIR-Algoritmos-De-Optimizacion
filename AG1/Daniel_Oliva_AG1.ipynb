{
  "nbformat": 4,
  "nbformat_minor": 0,
  "metadata": {
    "colab": {
      "name": "Daniel Oliva - AG1.ipynb",
      "provenance": [],
      "toc_visible": true,
      "authorship_tag": "ABX9TyM6y978cV7JB1FkyVs83FcT",
      "include_colab_link": true
    },
    "kernelspec": {
      "name": "python3",
      "display_name": "Python 3"
    }
  },
  "cells": [
    {
      "cell_type": "markdown",
      "metadata": {
        "id": "view-in-github",
        "colab_type": "text"
      },
      "source": [
        "<a href=\"https://colab.research.google.com/github/daniolivaglez/03MAIR-Algoritmos-De-Optimizacion/blob/main/AG1/Daniel_Oliva_AG1.ipynb\" target=\"_parent\"><img src=\"https://colab.research.google.com/assets/colab-badge.svg\" alt=\"Open In Colab\"/></a>"
      ]
    },
    {
      "cell_type": "markdown",
      "metadata": {
        "id": "EiANmorFAswq"
      },
      "source": [
        "# Algoritmos de Optimización: Actividad Guiada 1\r\n",
        "Nombre: Daniel Oliva González <br>\r\n",
        "Url: https://colab.research.google.com/drive/1wOlJG_9sSY7Cjps24v6N3KYP8rCOoqbI?usp=sharing \r\n"
      ]
    },
    {
      "cell_type": "markdown",
      "metadata": {
        "id": "8R8dQ0X5DzeK"
      },
      "source": [
        "\r\n",
        "\r\n",
        "```\r\n",
        "# Tiene formato de código\r\n",
        "```\r\n",
        "\r\n",
        "## Torres de Hanoi con Divide y Vencerás"
      ]
    },
    {
      "cell_type": "code",
      "metadata": {
        "colab": {
          "base_uri": "https://localhost:8080/"
        },
        "id": "q6pCHJB6BBdc",
        "outputId": "d7b57458-4a63-4c70-89d9-281330049185"
      },
      "source": [
        "def torresHanoi(N, desde, hasta):\n",
        "  if N == 1:\n",
        "    print(\"Lleva la ficha desde\", desde, \"hasta\", hasta)\n",
        "  else:\n",
        "    torresHanoi(N - 1, desde, list({1,2,3}-{desde,hasta})[0])\n",
        "    print(\"Lleva la ficha desde\", desde, \"hasta\", hasta)\n",
        "    torresHanoi(N - 1, list({1,2,3}-{desde,hasta})[0], hasta)\n",
        "\n",
        "torresHanoi(3,1,3)"
      ],
      "execution_count": null,
      "outputs": [
        {
          "output_type": "stream",
          "text": [
            "Lleva la ficha desde 1 hasta 3\n",
            "Lleva la ficha desde 1 hasta 2\n",
            "Lleva la ficha desde 3 hasta 2\n",
            "Lleva la ficha desde 1 hasta 3\n",
            "Lleva la ficha desde 2 hasta 1\n",
            "Lleva la ficha desde 2 hasta 3\n",
            "Lleva la ficha desde 1 hasta 3\n"
          ],
          "name": "stdout"
        }
      ]
    },
    {
      "cell_type": "markdown",
      "metadata": {
        "id": "aXrfyoeJPqlE"
      },
      "source": [
        "## Devolución de cambio con Algoritmos Voraces"
      ]
    },
    {
      "cell_type": "code",
      "metadata": {
        "colab": {
          "base_uri": "https://localhost:8080/"
        },
        "id": "xb5UytJVN6gW",
        "outputId": "13eee776-0add-4750-9f80-feeb30a10684"
      },
      "source": [
        "def cambioMonedas(cantidad, sistema):\r\n",
        "  solucion = [0]*len(sistema)\r\n",
        "  valor_actual = 0\r\n",
        "  for i, valor_moneda in enumerate(sistema):\r\n",
        "    monedas = (cantidad-valor_actual)//valor_moneda\r\n",
        "    solucion[i] = monedas\r\n",
        "    valor_actual = valor_actual + monedas*valor_moneda\r\n",
        "    if valor_actual == cantidad:\r\n",
        "      return(solucion)\r\n",
        "\r\n",
        "cambioMonedas(37,[25,10,5,1])"
      ],
      "execution_count": null,
      "outputs": [
        {
          "output_type": "execute_result",
          "data": {
            "text/plain": [
              "[1, 1, 0, 2]"
            ]
          },
          "metadata": {
            "tags": []
          },
          "execution_count": 1
        }
      ]
    },
    {
      "cell_type": "markdown",
      "metadata": {
        "id": "BLBSgLKmSSu3"
      },
      "source": [
        "## N-Reinas con Backtracking"
      ]
    },
    {
      "cell_type": "code",
      "metadata": {
        "colab": {
          "base_uri": "https://localhost:8080/"
        },
        "id": "iAIknBp-SPI9",
        "outputId": "1bc685ba-aa6d-44a3-d8ab-8de553b2e92e"
      },
      "source": [
        "def escribe(solucion):\r\n",
        "  n = len(solucion)\r\n",
        "  for x in range(n):\r\n",
        "    print(\"\")\r\n",
        "    for i in range(n):\r\n",
        "      if solucion[i] == x+1:\r\n",
        "        print(\" X \", end=\"\")\r\n",
        "      else: \r\n",
        "        print(\" - \", end=\"\")\r\n",
        "\r\n",
        "def esPrometedora(solucion, etapa):\r\n",
        "  for i in range(etapa+1):\r\n",
        "    if solucion.count(solucion[i])>1:\r\n",
        "      return False\r\n",
        "    for j in range(i+1,etapa+1):\r\n",
        "      if abs(i-j)==abs(solucion[i]-solucion[j]):\r\n",
        "        return False\r\n",
        "  return True\r\n",
        "\r\n",
        "def nReinas(n, solucion=[], etapa=0):\r\n",
        "  if len(solucion) == 0:\r\n",
        "    solucion = [0 for i in range(n)]\r\n",
        "  for i in range(1, n+1):\r\n",
        "    solucion[etapa] = i\r\n",
        "\r\n",
        "    if esPrometedora(solucion, etapa):\r\n",
        "      if etapa == n-1:\r\n",
        "        print(solucion)\r\n",
        "        escribe(solucion)\r\n",
        "        print()\r\n",
        "      else:\r\n",
        "        nReinas(n, solucion, etapa+1)\r\n",
        "    else: \r\n",
        "      None\r\n",
        "    \r\n",
        "    solucion[etapa] = 0\r\n",
        "\r\n",
        "nReinas(5)\r\n"
      ],
      "execution_count": null,
      "outputs": [
        {
          "output_type": "stream",
          "text": [
            "[1, 3, 5, 2, 4]\n",
            "\n",
            " X  -  -  -  - \n",
            " -  -  -  X  - \n",
            " -  X  -  -  - \n",
            " -  -  -  -  X \n",
            " -  -  X  -  - \n",
            "[1, 4, 2, 5, 3]\n",
            "\n",
            " X  -  -  -  - \n",
            " -  -  X  -  - \n",
            " -  -  -  -  X \n",
            " -  X  -  -  - \n",
            " -  -  -  X  - \n",
            "[2, 4, 1, 3, 5]\n",
            "\n",
            " -  -  X  -  - \n",
            " X  -  -  -  - \n",
            " -  -  -  X  - \n",
            " -  X  -  -  - \n",
            " -  -  -  -  X \n",
            "[2, 5, 3, 1, 4]\n",
            "\n",
            " -  -  -  X  - \n",
            " X  -  -  -  - \n",
            " -  -  X  -  - \n",
            " -  -  -  -  X \n",
            " -  X  -  -  - \n",
            "[3, 1, 4, 2, 5]\n",
            "\n",
            " -  X  -  -  - \n",
            " -  -  -  X  - \n",
            " X  -  -  -  - \n",
            " -  -  X  -  - \n",
            " -  -  -  -  X \n",
            "[3, 5, 2, 4, 1]\n",
            "\n",
            " -  -  -  -  X \n",
            " -  -  X  -  - \n",
            " X  -  -  -  - \n",
            " -  -  -  X  - \n",
            " -  X  -  -  - \n",
            "[4, 1, 3, 5, 2]\n",
            "\n",
            " -  X  -  -  - \n",
            " -  -  -  -  X \n",
            " -  -  X  -  - \n",
            " X  -  -  -  - \n",
            " -  -  -  X  - \n",
            "[4, 2, 5, 3, 1]\n",
            "\n",
            " -  -  -  -  X \n",
            " -  X  -  -  - \n",
            " -  -  -  X  - \n",
            " X  -  -  -  - \n",
            " -  -  X  -  - \n",
            "[5, 2, 4, 1, 3]\n",
            "\n",
            " -  -  -  X  - \n",
            " -  X  -  -  - \n",
            " -  -  -  -  X \n",
            " -  -  X  -  - \n",
            " X  -  -  -  - \n",
            "[5, 3, 1, 4, 2]\n",
            "\n",
            " -  -  X  -  - \n",
            " -  -  -  -  X \n",
            " -  X  -  -  - \n",
            " -  -  -  X  - \n",
            " X  -  -  -  - \n"
          ],
          "name": "stdout"
        }
      ]
    },
    {
      "cell_type": "markdown",
      "metadata": {
        "id": "FT0sbM9PPANR"
      },
      "source": [
        "## Práctica individual"
      ]
    },
    {
      "cell_type": "markdown",
      "metadata": {
        "id": "0OkC8nHqhmAg"
      },
      "source": [
        "## 1 dimensión"
      ]
    },
    {
      "cell_type": "markdown",
      "metadata": {
        "id": "5-gOcQbX7yUG"
      },
      "source": [
        "Primero se van a cagar diferentes librerías que van a ser útiles."
      ]
    },
    {
      "cell_type": "code",
      "metadata": {
        "id": "MSLyjbDQPMl1"
      },
      "source": [
        "import random\r\n",
        "import numpy as np\r\n",
        "import math as m"
      ],
      "execution_count": null,
      "outputs": []
    },
    {
      "cell_type": "markdown",
      "metadata": {
        "id": "YdXD60ca8hw4"
      },
      "source": [
        "Ahora se hará con el enfoque de fuerza bruta y se ve que se consigue la distancia menor"
      ]
    },
    {
      "cell_type": "code",
      "metadata": {
        "colab": {
          "base_uri": "https://localhost:8080/"
        },
        "id": "BXwBsjxdPXL6",
        "outputId": "69782f66-14d7-4582-a136-f16973df1648"
      },
      "source": [
        "lista_1d = [random.randrange(1,100000) for x in range(100)]\r\n",
        "## a continuación se crea la función para encontrar los dos puntos a menor distancia\r\n",
        "\r\n",
        "def puntosMinimaDistancia(lista):\r\n",
        "  ## se empieza ordenando la lista\r\n",
        "  lista = sorted(lista)\r\n",
        "  ## se escoge el valor más grande de la lista\r\n",
        "  minimo = max(lista)\r\n",
        "  ## se inicializan dos puntos con valores a 0\r\n",
        "  p1 = 0\r\n",
        "  p2 = 0\r\n",
        "  ## se resta cada punto de la lista con todos los puntos de ella \r\n",
        "  for i in range(0, len(lista)):\r\n",
        "    for j in range(0, len(lista)):\r\n",
        "      ## si el valor absoluto de estos dos puntos es menor que el anteriormente inicializado y distintos\r\n",
        "      if minimo > abs(lista[i]-lista[j]) and (i != j):\r\n",
        "        ## se actualizan los valores\r\n",
        "         minimo = abs(lista[i]-lista[j])\r\n",
        "         p1 = lista[i]\r\n",
        "         p2 = lista[j]\r\n",
        "  ## por último se retornan los valores de los puntos      \r\n",
        "  return p1, p2\r\n",
        "\r\n",
        "puntosMinimaDistancia(lista_1d)"
      ],
      "execution_count": null,
      "outputs": [
        {
          "output_type": "execute_result",
          "data": {
            "text/plain": [
              "(67126, 67137)"
            ]
          },
          "metadata": {
            "tags": []
          },
          "execution_count": 37
        }
      ]
    },
    {
      "cell_type": "markdown",
      "metadata": {
        "id": "RjEdSYX98wKr"
      },
      "source": [
        "La complejidad obtenida de n al cuadrado debido a la anidación de los dos bucles."
      ]
    },
    {
      "cell_type": "code",
      "metadata": {
        "id": "6-VG6hQZTWSl"
      },
      "source": [
        "def puntosMinimaDyV(lista):\r\n",
        "  p1 = 0\r\n",
        "  p2 = 0\r\n",
        "  # si solo hay un punto la distancia será infinita\r\n",
        "  if len(lista)==1:\r\n",
        "    return m.inf\r\n",
        "  ## si hay dos, será la resta de ambos puntos\r\n",
        "  if len(lista)==2:\r\n",
        "    p1 = lista[0]\r\n",
        "    p2 = lista[1]\r\n",
        "    res = abs(p1-p2) \r\n",
        "    return res\r\n",
        "  ## en el caso de que la lista sea de más de dos puntos\r\n",
        "  else:\r\n",
        "    ## se escoge la mediana para dividir la lista\r\n",
        "    mediana = round(np.median(lista))\r\n",
        "    lista_izq = lista[lista<=mediana]\r\n",
        "    lista_der = lista[lista>mediana]\r\n",
        "    ## se calcula recursivamente la distancia en la lista de la izquiera y en la de la derecha\r\n",
        "    puntos_izq = puntosMinimaDyV(lista_izq)\r\n",
        "    puntos_der = puntosMinimaDyV(lista_der)\r\n",
        "    ## además de la de los dos puntos que se encuentran en el límite de las primeras listas\r\n",
        "    d = abs(max(lista_izq)-min(lista_der))\r\n",
        "    a = np.array([puntos_izq, puntos_der, d])\r\n",
        "    ## por último se escoge la distancia mínima\r\n",
        "    return min(a)\r\n",
        "  "
      ],
      "execution_count": null,
      "outputs": []
    },
    {
      "cell_type": "markdown",
      "metadata": {
        "id": "4PAcNuHoicuY"
      },
      "source": [
        "En este caso la complejidad sería nlogn, proveniente de 2T(n/2)."
      ]
    },
    {
      "cell_type": "code",
      "metadata": {
        "colab": {
          "base_uri": "https://localhost:8080/"
        },
        "id": "rJ27vIDmoImp",
        "outputId": "b1ca68b0-1ed5-41a6-9fc3-057a58d6ed8e"
      },
      "source": [
        "lista_1 = np.array(list([1,22,31,45,50,61,79]))\r\n",
        "puntosMinimaDyV(lista_1)"
      ],
      "execution_count": null,
      "outputs": [
        {
          "output_type": "execute_result",
          "data": {
            "text/plain": [
              "5.0"
            ]
          },
          "metadata": {
            "tags": []
          },
          "execution_count": 40
        }
      ]
    },
    {
      "cell_type": "markdown",
      "metadata": {
        "id": "S0zKPZQFhQ6f"
      },
      "source": [
        "En teoría debería devolver además de la distancia los dos puntos más cercanos, pero no he conseguido hacerlo."
      ]
    }
  ]
}