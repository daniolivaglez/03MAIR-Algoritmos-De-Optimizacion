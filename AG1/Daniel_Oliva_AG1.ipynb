{
  "nbformat": 4,
  "nbformat_minor": 0,
  "metadata": {
    "colab": {
      "name": "Daniel Oliva - AG1.ipynb",
      "provenance": [],
      "authorship_tag": "ABX9TyPoOEhJpYKeFaUGfoDQx1gC",
      "include_colab_link": true
    },
    "kernelspec": {
      "name": "python3",
      "display_name": "Python 3"
    }
  },
  "cells": [
    {
      "cell_type": "markdown",
      "metadata": {
        "id": "view-in-github",
        "colab_type": "text"
      },
      "source": [
        "<a href=\"https://colab.research.google.com/github/daniolivaglez/03MAIR-Algoritmos-De-Optimizacion/blob/main/AG1/Daniel_Oliva_AG1.ipynb\" target=\"_parent\"><img src=\"https://colab.research.google.com/assets/colab-badge.svg\" alt=\"Open In Colab\"/></a>"
      ]
    },
    {
      "cell_type": "markdown",
      "metadata": {
        "id": "EiANmorFAswq"
      },
      "source": [
        "Nombre: Daniel Oliva González <br>\r\n",
        "Url: https://colab.research.google.com/drive/1wOlJG_9sSY7Cjps24v6N3KYP8rCOoqbI?usp=sharing "
      ]
    },
    {
      "cell_type": "code",
      "metadata": {
        "id": "q6pCHJB6BBdc"
      },
      "source": [
        ""
      ],
      "execution_count": null,
      "outputs": []
    }
  ]
}