{
  "nbformat": 4,
  "nbformat_minor": 0,
  "metadata": {
    "colab": {
      "name": "Daniel Oliva - AG2.ipynb",
      "provenance": [],
      "collapsed_sections": [],
      "toc_visible": true,
      "authorship_tag": "ABX9TyNln5PnaRqPd6Zq/m8WxgQ4",
      "include_colab_link": true
    },
    "kernelspec": {
      "name": "python3",
      "display_name": "Python 3"
    }
  },
  "cells": [
    {
      "cell_type": "markdown",
      "metadata": {
        "id": "view-in-github",
        "colab_type": "text"
      },
      "source": [
        "<a href=\"https://colab.research.google.com/github/daniolivaglez/03MAIR-Algoritmos-De-Optimizacion/blob/main/AG2/Daniel_Oliva_AG2.ipynb\" target=\"_parent\"><img src=\"https://colab.research.google.com/assets/colab-badge.svg\" alt=\"Open In Colab\"/></a>"
      ]
    },
    {
      "cell_type": "markdown",
      "metadata": {
        "id": "gk-fgEvTkXlJ"
      },
      "source": [
        "#Actividad Guiada 2\r\n",
        "Nombre: Daniel Oliva González <br>\r\n",
        "Link: https://colab.research.google.com/drive/1FBfplQcL67nTUAUqaUt3tQ21nGTQzbXX?usp=sharing\r\n",
        "<br>\r\n",
        "\r\n"
      ]
    },
    {
      "cell_type": "markdown",
      "metadata": {
        "id": "keulxF4lktLP"
      },
      "source": [
        "## Viaje por el río"
      ]
    },
    {
      "cell_type": "code",
      "metadata": {
        "id": "tEYjqGrtky1V"
      },
      "source": [
        "import math as m\r\n",
        "import itertools\r\n",
        "import time\r\n",
        "import random"
      ],
      "execution_count": 8,
      "outputs": []
    },
    {
      "cell_type": "markdown",
      "metadata": {
        "id": "FspsSo9Dpp78"
      },
      "source": [
        "A continuación, se crea la matriz de tarifas:"
      ]
    },
    {
      "cell_type": "code",
      "metadata": {
        "id": "1pwDGXRxp2WX"
      },
      "source": [
        "tarifas = [\r\n",
        "[0,5,4,3,m.inf,m.inf,m.inf],   #desde nodo 0\r\n",
        "[m.inf,0,m.inf,2,3,m.inf,11],  #desde nodo 1\r\n",
        "[m.inf,m.inf, 0,1,m.inf,4,10], #desde nodo 2\r\n",
        "[m.inf,m.inf,m.inf, 0,5,6,9],\r\n",
        "[m.inf,m.inf, m.inf,m.inf,0,m.inf,4],\r\n",
        "[m.inf,m.inf, m.inf,m.inf,m.inf,0,3],\r\n",
        "[m.inf,m.inf,m.inf,m.inf,m.inf,m.inf,0]\r\n",
        "]"
      ],
      "execution_count": null,
      "outputs": []
    },
    {
      "cell_type": "code",
      "metadata": {
        "id": "4YkicLN0uPOL"
      },
      "source": [
        "def preciosTarifas(TARIFAS):\r\n",
        "  ## se calcula el número de nodos\r\n",
        "  N = len(TARIFAS[0])\r\n",
        "  \r\n",
        "  #Inicialización de la tabla de precios\r\n",
        "  PRECIOS = [ [m.inf]*N for i in [m.inf]*N]  #n x n \r\n",
        "  RUTA = [ [\"\"]*N for i in [\"\"]*N]\r\n",
        "  \r\n",
        "  ## se recorren todas las posibilidades\r\n",
        "  ## desde 0 a la longitud menos uno, por ejemplo, si la longitud es 4, será desde 0 a 3\r\n",
        "  for i in range(N-1):\r\n",
        "    ## en este caso, será desde el siguiente valor de i hasta uno menos de la longitud\r\n",
        "    for j in range(i+1, N):\r\n",
        "      MIN = TARIFAS[i][j]\r\n",
        "      RUTA[i][j] = i\r\n",
        "      \r\n",
        "      ## se comprueba que no hay ningún nodo intermedio tal que haga menor el coste, en el caso de que lo hubiese, se actualiza la ruta y el costo\r\n",
        "      for k in range(i, j):\r\n",
        "        if PRECIOS[i][k] + TARIFAS[k][j] < MIN:\r\n",
        "            MIN = min(MIN, PRECIOS[i][k] + TARIFAS[k][j] )\r\n",
        "            RUTA[i][j] = k\r\n",
        "        PRECIOS[i][j] = MIN\r\n",
        "        \r\n",
        "  return PRECIOS,RUTA"
      ],
      "execution_count": null,
      "outputs": []
    },
    {
      "cell_type": "markdown",
      "metadata": {
        "id": "wCzksf0Ec7qV"
      },
      "source": [
        "A continuación, se calculan los precios y la ruta y se escriben por pantalla los resultados."
      ]
    },
    {
      "cell_type": "code",
      "metadata": {
        "colab": {
          "base_uri": "https://localhost:8080/"
        },
        "id": "w4EaL-dE1ofj",
        "outputId": "c1719568-93b2-49b8-fee8-dc95fc2e7294"
      },
      "source": [
        "precios,ruta = preciosTarifas(tarifas) \r\n",
        "\r\n",
        "## se presenta por pantalla todos los precios calculados\r\n",
        "print(\"PRECIOS\")\r\n",
        "for i in range(len(tarifas)):\r\n",
        "  print(precios[i])\r\n",
        "\r\n",
        "## se escribe por pantalla la ruta para ir a un nodo determinado\r\n",
        "print(\"\\nRUTA\")  \r\n",
        "for i in range(len(tarifas)):\r\n",
        "  print(ruta[i]) \r\n"
      ],
      "execution_count": null,
      "outputs": [
        {
          "output_type": "stream",
          "text": [
            "PRECIOS\n",
            "[inf, 5, 4, 3, 8, 8, 11]\n",
            "[inf, inf, inf, 2, 3, 8, 7]\n",
            "[inf, inf, inf, 1, 6, 4, 7]\n",
            "[inf, inf, inf, inf, 5, 6, 9]\n",
            "[inf, inf, inf, inf, inf, inf, 4]\n",
            "[inf, inf, inf, inf, inf, inf, 3]\n",
            "[inf, inf, inf, inf, inf, inf, inf]\n",
            "\n",
            "RUTA\n",
            "['', 0, 0, 0, 1, 2, 5]\n",
            "['', '', 1, 1, 1, 3, 4]\n",
            "['', '', '', 2, 3, 2, 5]\n",
            "['', '', '', '', 3, 3, 3]\n",
            "['', '', '', '', '', 4, 4]\n",
            "['', '', '', '', '', '', 5]\n",
            "['', '', '', '', '', '', '']\n"
          ],
          "name": "stdout"
        }
      ]
    },
    {
      "cell_type": "markdown",
      "metadata": {
        "id": "17GyqNkidFdQ"
      },
      "source": [
        "Por último, se crea una función que devuelva la ruta a seguir desde un nodo a otro según la matriz de ruta. "
      ]
    },
    {
      "cell_type": "code",
      "metadata": {
        "colab": {
          "base_uri": "https://localhost:8080/",
          "height": 69
        },
        "id": "DHliwZU248oR",
        "outputId": "dc0cd25b-b6f7-4b79-d03d-8e71e495cba5"
      },
      "source": [
        "def calcularRuta(RUTA, desde, hasta):\r\n",
        "  if desde == hasta:\r\n",
        "    #print(\"Ir a :\" + str(desde))\r\n",
        "    return desde \r\n",
        "  else:\r\n",
        "    return str(calcularRuta(RUTA, desde, RUTA[desde][hasta])) +  ',' + str(RUTA[desde][hasta]) \r\n",
        "\r\n",
        "print(\"\\nLa ruta es:\")  \r\n",
        "calcularRuta(ruta, 0, 6) "
      ],
      "execution_count": null,
      "outputs": [
        {
          "output_type": "stream",
          "text": [
            "\n",
            "La ruta es:\n"
          ],
          "name": "stdout"
        },
        {
          "output_type": "execute_result",
          "data": {
            "application/vnd.google.colaboratory.intrinsic+json": {
              "type": "string"
            },
            "text/plain": [
              "'0,0,2,5'"
            ]
          },
          "metadata": {
            "tags": []
          },
          "execution_count": 5
        }
      ]
    },
    {
      "cell_type": "markdown",
      "metadata": {
        "id": "XCpRneiMd6RD"
      },
      "source": [
        "## Problema de asignación de tareas"
      ]
    },
    {
      "cell_type": "markdown",
      "metadata": {
        "id": "dAx28d4aeAif"
      },
      "source": [
        "Primero se define la matriz de costes "
      ]
    },
    {
      "cell_type": "code",
      "metadata": {
        "id": "ROGaFPsfd-MA"
      },
      "source": [
        "costes=[[11,12,18,40],\r\n",
        "        [14,15,13,22],\r\n",
        "        [11,17,19,23],\r\n",
        "        [17,14,20,28]]"
      ],
      "execution_count": 1,
      "outputs": []
    },
    {
      "cell_type": "markdown",
      "metadata": {
        "id": "dr4IWFGjePzA"
      },
      "source": [
        "Se va a crear una función la cual devuelva el resultado para una solución parcial."
      ]
    },
    {
      "cell_type": "code",
      "metadata": {
        "id": "xYqgjzOAePAP"
      },
      "source": [
        "def calcularValor(solucion, costes):\r\n",
        "  ## se inicializa el valor a 0\r\n",
        "  valor = 0\r\n",
        "  ## se recorre todo la solucion\r\n",
        "  for i in range(len(solucion)):\r\n",
        "    ## se va sumando según el agente que haga la tarea\r\n",
        "    valor += costes[i][solucion[i]]\r\n",
        "  return valor"
      ],
      "execution_count": 2,
      "outputs": []
    },
    {
      "cell_type": "markdown",
      "metadata": {
        "id": "UDGvtpuYePff"
      },
      "source": [
        "A continuación, se va a hacer una prueba"
      ]
    },
    {
      "cell_type": "code",
      "metadata": {
        "colab": {
          "base_uri": "https://localhost:8080/"
        },
        "id": "R_PO7es0gJ4A",
        "outputId": "27147c45-4f2c-4e8f-9583-1c43fa9b9df0"
      },
      "source": [
        "calcularValor((0, 1, 2, 3), costes)"
      ],
      "execution_count": 3,
      "outputs": [
        {
          "output_type": "execute_result",
          "data": {
            "text/plain": [
              "73"
            ]
          },
          "metadata": {
            "tags": []
          },
          "execution_count": 3
        }
      ]
    },
    {
      "cell_type": "markdown",
      "metadata": {
        "id": "eS-nx_uSAYH-"
      },
      "source": [
        "A la hora de realizar las cotas se va a introducir la **modificación** comentada en clase, para no comprobar valores repetidos. En este caso, lo que se va a hacer es eliminar de la lista de agentes (o tareas según se defina la matriz) los que ya se encuentran en la solución."
      ]
    },
    {
      "cell_type": "code",
      "metadata": {
        "colab": {
          "base_uri": "https://localhost:8080/"
        },
        "id": "qw1ofK4-kZSG",
        "outputId": "a37f8b17-ffd5-4b8f-ac99-e1d020de54da"
      },
      "source": [
        "def CI(S,COSTES):\r\n",
        "  S = list(S)\r\n",
        "  VALOR = 0\r\n",
        "  #Valores establecidos\r\n",
        "  for i in range(len(S)):\r\n",
        "    VALOR += COSTES[i][S[i]]\r\n",
        "\r\n",
        "  #Estimacion\r\n",
        "  a = list(range(len(COSTES)))\r\n",
        "  restantes = list(set(a)-set(S))\r\n",
        "  for i in range( len(S), len(COSTES)   ):\r\n",
        "    VALOR += min( [ COSTES[j][i] for j in restantes  ])\r\n",
        "  return VALOR\r\n",
        "\r\n",
        "def CS(S,COSTES):\r\n",
        "  VALOR = 0\r\n",
        "  #Valores establecidos\r\n",
        "  for i in range(len(S)):\r\n",
        "    VALOR += COSTES[i][S[i]]\r\n",
        "\r\n",
        "  #Estimacion\r\n",
        "  a = list(range(len(COSTES)))\r\n",
        "  restantes = list(set(a)-set(S))\r\n",
        "  for i in range( len(S), len(COSTES)   ):\r\n",
        "    VALOR += max( [ COSTES[j][i] for j in restantes  ])\r\n",
        "  return VALOR\r\n",
        "\r\n",
        "CS((0,1),costes)"
      ],
      "execution_count": 4,
      "outputs": [
        {
          "output_type": "execute_result",
          "data": {
            "text/plain": [
              "74"
            ]
          },
          "metadata": {
            "tags": []
          },
          "execution_count": 4
        }
      ]
    },
    {
      "cell_type": "markdown",
      "metadata": {
        "id": "XXBfUEo8Df9Q"
      },
      "source": [
        "El siguiente paso será crear una función que permita ver los nodos restantes posibles."
      ]
    },
    {
      "cell_type": "code",
      "metadata": {
        "id": "A91y2X-3Dk9f"
      },
      "source": [
        "#Genera tantos hijos como posibilidades haya para la siguiente elemento de la tupla\r\n",
        "#(0,) -> (0,1), (0,2), (0,3)\r\n",
        "def crearHijos(NODO, N):\r\n",
        "  HIJOS = []\r\n",
        "  for i in range(N):\r\n",
        "    if i not in NODO:\r\n",
        "      HIJOS.append({'s':NODO +(i,)    })\r\n",
        "  return HIJOS"
      ],
      "execution_count": 5,
      "outputs": []
    },
    {
      "cell_type": "markdown",
      "metadata": {
        "id": "1NJwMfSfIX97"
      },
      "source": [
        "El siguiente paso es crear una función que genera todas las posibilidades del árbol y se queda con la mejor solución."
      ]
    },
    {
      "cell_type": "code",
      "metadata": {
        "colab": {
          "base_uri": "https://localhost:8080/"
        },
        "id": "YJ2ogRNtHxhZ",
        "outputId": "158ca8a8-7e62-4624-ffab-a2dc952b27af"
      },
      "source": [
        "def ramificacionYPoda(COSTES):\r\n",
        "#Construccion iterativa de soluciones(arbol). En cada etapa asignamos un agente(ramas).\r\n",
        "#Nodos del grafo  { s:(1,2),CI:3,CS:5  }\r\n",
        "  #print(COSTES)\r\n",
        "  DIMENSION = len(COSTES)  \r\n",
        "  MEJOR_SOLUCION=tuple( i for i in range(len(COSTES)) )\r\n",
        "  CotaSup = calcularValor(MEJOR_SOLUCION,COSTES)\r\n",
        "  #print(\"Cota Superior:\", CotaSup)\r\n",
        "\r\n",
        "  NODOS=[]\r\n",
        "  NODOS.append({'s':(), 'ci':CI((),COSTES)    } )\r\n",
        "\r\n",
        "  iteracion = 0\r\n",
        "\r\n",
        "  while( len(NODOS) > 0):\r\n",
        "    iteracion +=1\r\n",
        "\r\n",
        "    nodo_prometedor = [ min(NODOS, key=lambda x:x['ci']) ][0]['s']\r\n",
        "    #print(\"Nodo prometedor:\", nodo_prometedor)\r\n",
        "\r\n",
        "    #Ramificacion\r\n",
        "    #Se generan los hijos\r\n",
        "    HIJOS =[ {'s':x['s'], 'ci':CI(x['s'], COSTES)   } for x in crearHijos(nodo_prometedor, DIMENSION) ]\r\n",
        "\r\n",
        "    #Revisamos la cota superior y nos quedamos con la mejor solucion si llegamos a una solucion final\r\n",
        "    NODO_FINAL = [x for x in HIJOS if len(x['s']) == DIMENSION  ]\r\n",
        "    if len(NODO_FINAL ) >0: \r\n",
        "      #print(\"\\n********Soluciones:\",  [x for x in HIJOS if len(x['s']) == DIMENSION  ] )\r\n",
        "      if NODO_FINAL[0]['ci'] < CotaSup:\r\n",
        "        CotaSup = NODO_FINAL[0]['ci']\r\n",
        "        MEJOR_SOLUCION = NODO_FINAL\r\n",
        " # Poda\r\n",
        "    HIJOS = [x for x in HIJOS if x['ci'] < CotaSup   ]\r\n",
        "\r\n",
        "    #Añadimos los hijos \r\n",
        "    NODOS.extend(HIJOS) \r\n",
        "\r\n",
        "    #Eliminamos el nodo ramificado\r\n",
        "    NODOS =  [  x for x in NODOS if x['s'] != nodo_prometedor    ]\r\n",
        "   \r\n",
        "  print(\"La solucion final es:\" ,MEJOR_SOLUCION , \" en \" , iteracion , \" iteraciones\" , \" para dimension: \" ,DIMENSION  )\r\n",
        "      \r\n",
        "ramificacionYPoda(costes)"
      ],
      "execution_count": 6,
      "outputs": [
        {
          "output_type": "stream",
          "text": [
            "La solucion final es: [{'s': (0, 2, 3, 1), 'ci': 61}]  en  14  iteraciones  para dimension:  4\n"
          ],
          "name": "stdout"
        }
      ]
    },
    {
      "cell_type": "markdown",
      "metadata": {
        "id": "wK6qCt90Ii0j"
      },
      "source": [
        "**## Parte individual**"
      ]
    },
    {
      "cell_type": "markdown",
      "metadata": {
        "id": "EG0iH91qLive"
      },
      "source": [
        "Respecto a la complejidad del algoritmo en fuerza bruta sería T(n)= n + 7: n debido al bucle for y 7 por las operaciones elementales contadas (igualaciones, acceso a matriz y comparaciones), no sé si la instrucción que acompaña al bucle for afectaría a la complejidad. Entonces, el orden de complejidad es O(n).\r\n",
        "El siguiente código es el algoritmo por fuerza bruta:"
      ]
    },
    {
      "cell_type": "code",
      "metadata": {
        "colab": {
          "base_uri": "https://localhost:8080/"
        },
        "id": "E-rxis5JLiGp",
        "outputId": "8681d546-5d5b-4021-beaa-25345aab31c1"
      },
      "source": [
        "def fuerzaBruta(costes):\r\n",
        "  valor = m.inf\r\n",
        "  solucion = ()\r\n",
        "  for s in list(itertools.permutations(range(len(costes)))):\r\n",
        "    valor_temp = calcularValor(s,costes)\r\n",
        "    if valor_temp < valor:\r\n",
        "      valor = valor_temp\r\n",
        "      solucion = s\r\n",
        "\r\n",
        "  print(\"la solución es: \", s, \"con valor: \", valor)\r\n",
        "\r\n",
        "fuerzaBruta(costes)"
      ],
      "execution_count": 9,
      "outputs": [
        {
          "output_type": "stream",
          "text": [
            "la solución es:  (3, 2, 1, 0) con valor:  61\n"
          ],
          "name": "stdout"
        }
      ]
    },
    {
      "cell_type": "markdown",
      "metadata": {
        "id": "HbdDn1qievcw"
      },
      "source": [
        "Ahora se va a comparar el tiempo de usar fuerza bruta y ramificación y poda con varias dimensiones de matrices, empezando con la matriz dada."
      ]
    },
    {
      "cell_type": "code",
      "metadata": {
        "colab": {
          "base_uri": "https://localhost:8080/"
        },
        "id": "qLjTJ33xezi-",
        "outputId": "67c54e0e-a413-414e-e149-1b068f469730"
      },
      "source": [
        "tiempo_inicio_fb = time.time()\r\n",
        "fuerzaBruta(costes)\r\n",
        "tiempo_fin_fb = time.time()\r\n",
        "print(tiempo_fin_fb - tiempo_inicio_fb)"
      ],
      "execution_count": 10,
      "outputs": [
        {
          "output_type": "stream",
          "text": [
            "la solución es:  (3, 2, 1, 0) con valor:  61\n",
            "0.0015876293182373047\n"
          ],
          "name": "stdout"
        }
      ]
    },
    {
      "cell_type": "code",
      "metadata": {
        "colab": {
          "base_uri": "https://localhost:8080/"
        },
        "id": "3p6LLPCegyjp",
        "outputId": "0bcbe98b-f349-45cc-c07d-b4b15e700db4"
      },
      "source": [
        "tiempo_inicio_ryp = time.time()\r\n",
        "ramificacionYPoda(costes)\r\n",
        "tiempo_fin_ryp = time.time()\r\n",
        "print(tiempo_fin_ryp - tiempo_inicio_ryp)"
      ],
      "execution_count": 11,
      "outputs": [
        {
          "output_type": "stream",
          "text": [
            "La solucion final es: [{'s': (0, 2, 3, 1), 'ci': 61}]  en  14  iteraciones  para dimension:  4\n",
            "0.0024373531341552734\n"
          ],
          "name": "stdout"
        }
      ]
    },
    {
      "cell_type": "markdown",
      "metadata": {
        "id": "u5abb3-7jNKT"
      },
      "source": [
        "Como se puede observar para dimensión 4 se tarda menos tiempo con fuerza bruta. Esto se debe a que tampoco hay muchas combinaciones. A continuación, se van a hacer matrices de dimensión 5 hasta 10 y se hará la prueba."
      ]
    },
    {
      "cell_type": "code",
      "metadata": {
        "id": "86-KmO2n0N5z"
      },
      "source": [
        "matriz_5d = [[random.randrange(1,25),random.randrange(1,25),random.randrange(1,25),random.randrange(1,25),random.randrange(1,25)] for x in range(5)]\r\n",
        "matriz_6d = [[random.randrange(1,25),random.randrange(1,25),random.randrange(1,25),random.randrange(1,25),random.randrange(1,25),random.randrange(1,25)] for x in range(6)]\r\n",
        "matriz_7d = [[random.randrange(1,25),random.randrange(1,25),random.randrange(1,25),random.randrange(1,25),random.randrange(1,25),random.randrange(1,25),random.randrange(1,25)] for x in range(7)]\r\n",
        "matriz_8d = [[random.randrange(1,25),random.randrange(1,25),random.randrange(1,25),random.randrange(1,25),random.randrange(1,25),random.randrange(1,25),random.randrange(1,25),random.randrange(1,25)] for x in range(8)]\r\n",
        "matriz_9d = [[random.randrange(1,25),random.randrange(1,25),random.randrange(1,25),random.randrange(1,25),random.randrange(1,25),random.randrange(1,25),random.randrange(1,25),random.randrange(1,25),random.randrange(1,25)] for x in range(9)]\r\n",
        "matriz_10d = [[random.randrange(1,25),random.randrange(1,25),random.randrange(1,25),random.randrange(1,25),random.randrange(1,25),random.randrange(1,25),random.randrange(1,25),random.randrange(1,25),random.randrange(1,25),random.randrange(1,25)] for x in range(10)]"
      ],
      "execution_count": 13,
      "outputs": []
    },
    {
      "cell_type": "code",
      "metadata": {
        "colab": {
          "base_uri": "https://localhost:8080/"
        },
        "id": "pP1PzbVx1Md8",
        "outputId": "b5005832-6758-47bb-c202-46b36740a560"
      },
      "source": [
        "tiempo_inicio_fb = time.time()\r\n",
        "fuerzaBruta(matriz_5d)\r\n",
        "tiempo_fin_fb = time.time()\r\n",
        "print(\"El tiempo de fuerza bruta es: \", tiempo_fin_fb - tiempo_inicio_fb)"
      ],
      "execution_count": 14,
      "outputs": [
        {
          "output_type": "stream",
          "text": [
            "la solución es:  (4, 3, 2, 1, 0) con valor:  27\n",
            "El tiempo de fuerza bruta es:  0.0011262893676757812\n"
          ],
          "name": "stdout"
        }
      ]
    },
    {
      "cell_type": "code",
      "metadata": {
        "colab": {
          "base_uri": "https://localhost:8080/"
        },
        "id": "qKBpQt0q4gvo",
        "outputId": "f971892a-ab95-4bee-da9c-49744d86d62d"
      },
      "source": [
        "tiempo_inicio_ryp = time.time()\r\n",
        "ramificacionYPoda(matriz_5d)\r\n",
        "tiempo_fin_ryp = time.time()\r\n",
        "print(\"El tiempo de ramificación y poda es: \", tiempo_fin_ryp - tiempo_inicio_ryp)"
      ],
      "execution_count": 15,
      "outputs": [
        {
          "output_type": "stream",
          "text": [
            "La solucion final es: [{'s': (0, 1, 3, 2, 4), 'ci': 31}]  en  16  iteraciones  para dimension:  5\n",
            "El tiempo de ramificación y poda es:  0.0027000904083251953\n"
          ],
          "name": "stdout"
        }
      ]
    },
    {
      "cell_type": "code",
      "metadata": {
        "colab": {
          "base_uri": "https://localhost:8080/"
        },
        "id": "ULIWuCbZ4pGY",
        "outputId": "73b8299e-78f8-4c0d-c67e-c219fe674b45"
      },
      "source": [
        "tiempo_inicio_fb = time.time()\r\n",
        "fuerzaBruta(matriz_6d)\r\n",
        "tiempo_fin_fb = time.time()\r\n",
        "print(\"El tiempo de fuerza bruta es: \", tiempo_fin_fb - tiempo_inicio_fb)\r\n",
        "tiempo_inicio_ryp = time.time()\r\n",
        "ramificacionYPoda(matriz_6d)\r\n",
        "tiempo_fin_ryp = time.time()\r\n",
        "print(\"El tiempo de ramificación y poda es: \", tiempo_fin_ryp - tiempo_inicio_ryp)"
      ],
      "execution_count": 16,
      "outputs": [
        {
          "output_type": "stream",
          "text": [
            "la solución es:  (5, 4, 3, 2, 1, 0) con valor:  42\n",
            "El tiempo de fuerza bruta es:  0.0022449493408203125\n",
            "La solucion final es: [{'s': (2, 0, 4, 3, 5, 1), 'ci': 42}]  en  96  iteraciones  para dimension:  6\n",
            "El tiempo de ramificación y poda es:  0.008113384246826172\n"
          ],
          "name": "stdout"
        }
      ]
    },
    {
      "cell_type": "code",
      "metadata": {
        "colab": {
          "base_uri": "https://localhost:8080/"
        },
        "id": "-a-vRPKc4zWl",
        "outputId": "d1d954e2-459c-4d89-b033-ca3a69e83602"
      },
      "source": [
        "tiempo_inicio_fb = time.time()\r\n",
        "fuerzaBruta(matriz_7d)\r\n",
        "tiempo_fin_fb = time.time()\r\n",
        "print(\"El tiempo de fuerza bruta es: \", tiempo_fin_fb - tiempo_inicio_fb)\r\n",
        "tiempo_inicio_ryp = time.time()\r\n",
        "ramificacionYPoda(matriz_7d)\r\n",
        "tiempo_fin_ryp = time.time()\r\n",
        "print(\"El tiempo de ramificación y poda es: \", tiempo_fin_ryp - tiempo_inicio_ryp)"
      ],
      "execution_count": 17,
      "outputs": [
        {
          "output_type": "stream",
          "text": [
            "la solución es:  (6, 5, 4, 3, 2, 1, 0) con valor:  28\n",
            "El tiempo de fuerza bruta es:  0.008369207382202148\n",
            "La solucion final es: [{'s': (3, 4, 5, 0, 2, 1, 6), 'ci': 28}]  en  28  iteraciones  para dimension:  7\n",
            "El tiempo de ramificación y poda es:  0.0019583702087402344\n"
          ],
          "name": "stdout"
        }
      ]
    },
    {
      "cell_type": "markdown",
      "metadata": {
        "id": "Bn-SmwUi44uB"
      },
      "source": [
        "Como se va viendo al aumentar la dimensión de la matriz va aumentando el tiempo, especialmente en el algoritmo de fuerza bruta, puesto que realiza todas las posibles combinaciones"
      ]
    },
    {
      "cell_type": "code",
      "metadata": {
        "colab": {
          "base_uri": "https://localhost:8080/"
        },
        "id": "HjTw0Tja44Fr",
        "outputId": "61e6a809-5d10-4fb8-9667-101454d41538"
      },
      "source": [
        "tiempo_inicio_fb = time.time()\r\n",
        "fuerzaBruta(matriz_8d)\r\n",
        "tiempo_fin_fb = time.time()\r\n",
        "print(\"El tiempo de fuerza bruta es: \", tiempo_fin_fb - tiempo_inicio_fb)\r\n",
        "tiempo_inicio_ryp = time.time()\r\n",
        "ramificacionYPoda(matriz_8d)\r\n",
        "tiempo_fin_ryp = time.time()\r\n",
        "print(\"El tiempo de ramificación y poda es: \", tiempo_fin_ryp - tiempo_inicio_ryp)"
      ],
      "execution_count": 18,
      "outputs": [
        {
          "output_type": "stream",
          "text": [
            "la solución es:  (7, 6, 5, 4, 3, 2, 1, 0) con valor:  35\n",
            "El tiempo de fuerza bruta es:  0.11151814460754395\n",
            "La solucion final es: [{'s': (2, 6, 1, 7, 5, 0, 3, 4), 'ci': 41}]  en  570  iteraciones  para dimension:  8\n",
            "El tiempo de ramificación y poda es:  0.039817094802856445\n"
          ],
          "name": "stdout"
        }
      ]
    },
    {
      "cell_type": "code",
      "metadata": {
        "colab": {
          "base_uri": "https://localhost:8080/"
        },
        "id": "ZMIegLkd5WH2",
        "outputId": "68ff6988-bbe9-4650-e4eb-f71744b77025"
      },
      "source": [
        "tiempo_inicio_fb = time.time()\r\n",
        "fuerzaBruta(matriz_9d)\r\n",
        "tiempo_fin_fb = time.time()\r\n",
        "print(\"El tiempo de fuerza bruta es: \", tiempo_fin_fb - tiempo_inicio_fb)\r\n",
        "tiempo_inicio_ryp = time.time()\r\n",
        "ramificacionYPoda(matriz_9d)\r\n",
        "tiempo_fin_ryp = time.time()\r\n",
        "print(\"El tiempo de ramificación y poda es: \", tiempo_fin_ryp - tiempo_inicio_ryp)"
      ],
      "execution_count": 19,
      "outputs": [
        {
          "output_type": "stream",
          "text": [
            "la solución es:  (8, 7, 6, 5, 4, 3, 2, 1, 0) con valor:  42\n",
            "El tiempo de fuerza bruta es:  0.44649434089660645\n",
            "La solucion final es: [{'s': (4, 3, 7, 5, 6, 1, 2, 0, 8), 'ci': 44}]  en  1425  iteraciones  para dimension:  9\n",
            "El tiempo de ramificación y poda es:  0.19802522659301758\n"
          ],
          "name": "stdout"
        }
      ]
    },
    {
      "cell_type": "code",
      "metadata": {
        "colab": {
          "base_uri": "https://localhost:8080/"
        },
        "id": "JUtTGt6G6fnU",
        "outputId": "077479bb-31f6-4777-8411-41eb461d40c4"
      },
      "source": [
        "tiempo_inicio_fb = time.time()\r\n",
        "fuerzaBruta(matriz_10d)\r\n",
        "tiempo_fin_fb = time.time()\r\n",
        "print(\"El tiempo de fuerza bruta es: \", tiempo_fin_fb - tiempo_inicio_fb)\r\n",
        "tiempo_inicio_ryp = time.time()\r\n",
        "ramificacionYPoda(matriz_10d)\r\n",
        "tiempo_fin_ryp = time.time()\r\n",
        "print(\"El tiempo de ramificación y poda es: \", tiempo_fin_ryp - tiempo_inicio_ryp)"
      ],
      "execution_count": 21,
      "outputs": [
        {
          "output_type": "stream",
          "text": [
            "la solución es:  (9, 8, 7, 6, 5, 4, 3, 2, 1, 0) con valor:  29\n",
            "El tiempo de fuerza bruta es:  4.632487058639526\n",
            "La solucion final es: [{'s': (0, 4, 7, 1, 2, 6, 9, 3, 5, 8), 'ci': 29}]  en  5287  iteraciones  para dimension:  10\n",
            "El tiempo de ramificación y poda es:  2.718282699584961\n"
          ],
          "name": "stdout"
        }
      ]
    },
    {
      "cell_type": "markdown",
      "metadata": {
        "id": "rPfOmxE86lna"
      },
      "source": [
        "Como se puede ver cuando se alcanza dimensión 10, el tiempo se aproxima a los 5 segundos en fuerza bruta y se acerca a 1 segundo en ramificación y poda. Ahora se va a hacer una matriz de dimensión 11."
      ]
    },
    {
      "cell_type": "code",
      "metadata": {
        "id": "SYGSX6DB7IdO"
      },
      "source": [
        "matriz_11d = [[random.randrange(1,25),random.randrange(1,25),random.randrange(1,25),random.randrange(1,25),random.randrange(1,25),random.randrange(1,25),random.randrange(1,25),random.randrange(1,25),random.randrange(1,25),random.randrange(1,25),random.randrange(1,25)] for x in range(11)]"
      ],
      "execution_count": 22,
      "outputs": []
    },
    {
      "cell_type": "code",
      "metadata": {
        "colab": {
          "base_uri": "https://localhost:8080/"
        },
        "id": "SaskfjQJDeic",
        "outputId": "bf2e5812-863b-4032-82b7-1b953ec60d22"
      },
      "source": [
        "tiempo_inicio_fb = time.time()\r\n",
        "fuerzaBruta(matriz_11d)\r\n",
        "tiempo_fin_fb = time.time()\r\n",
        "print(\"El tiempo de fuerza bruta es: \", tiempo_fin_fb - tiempo_inicio_fb)"
      ],
      "execution_count": 24,
      "outputs": [
        {
          "output_type": "stream",
          "text": [
            "la solución es:  (10, 9, 8, 7, 6, 5, 4, 3, 2, 1, 0) con valor:  30\n",
            "El tiempo de fuerza bruta es:  55.99885368347168\n"
          ],
          "name": "stdout"
        }
      ]
    },
    {
      "cell_type": "code",
      "metadata": {
        "colab": {
          "base_uri": "https://localhost:8080/"
        },
        "id": "ab9w3kpH7Pm8",
        "outputId": "e2be73f5-fc92-40d0-f3b8-04b449285760"
      },
      "source": [
        "tiempo_inicio_ryp = time.time()\r\n",
        "ramificacionYPoda(matriz_11d)\r\n",
        "tiempo_fin_ryp = time.time()\r\n",
        "print(\"El tiempo de ramificación y poda es: \", tiempo_fin_ryp - tiempo_inicio_ryp)"
      ],
      "execution_count": 25,
      "outputs": [
        {
          "output_type": "stream",
          "text": [
            "La solucion final es: [{'s': (4, 3, 2, 1, 8, 10, 7, 0, 6, 9, 5), 'ci': 32}]  en  3824  iteraciones  para dimension:  11\n",
            "El tiempo de ramificación y poda es:  1.45991849899292\n"
          ],
          "name": "stdout"
        }
      ]
    },
    {
      "cell_type": "markdown",
      "metadata": {
        "id": "B19QD4m_7gBB"
      },
      "source": [
        "Con una matriz de dimensión 11 se puede ver que el tiempo de fuerza bruta es muchísimo mayor que el de ramificación y poda. Es muy posible que para una matriz de dimensión 12 ya no sirva fuerza bruta."
      ]
    },
    {
      "cell_type": "code",
      "metadata": {
        "id": "zjHU6ux6IdBd"
      },
      "source": [
        "matriz_12d = [[random.randrange(1,25),random.randrange(1,25),random.randrange(1,25),random.randrange(1,25),random.randrange(1,25),random.randrange(1,25),random.randrange(1,25),random.randrange(1,25),random.randrange(1,25),random.randrange(1,25),random.randrange(1,25),random.randrange(1,25)] for x in range(12)]"
      ],
      "execution_count": 26,
      "outputs": []
    },
    {
      "cell_type": "code",
      "metadata": {
        "colab": {
          "base_uri": "https://localhost:8080/"
        },
        "id": "XHmPTN99I2j2",
        "outputId": "b6872fdc-dbd8-4224-d2e9-76fafc680e52"
      },
      "source": [
        "#tiempo_inicio_fb = time.time()\r\n",
        "#fuerzaBruta(matriz_12d)\r\n",
        "#tiempo_fin_fb = time.time()\r\n",
        "#print(\"El tiempo de fuerza bruta es: \", tiempo_fin_fb - tiempo_inicio_fb)\r\n",
        "tiempo_inicio_ryp = time.time()\r\n",
        "ramificacionYPoda(matriz_12d)\r\n",
        "tiempo_fin_ryp = time.time()\r\n",
        "print(\"El tiempo de ramificación y poda es: \", tiempo_fin_ryp - tiempo_inicio_ryp)"
      ],
      "execution_count": 30,
      "outputs": [
        {
          "output_type": "stream",
          "text": [
            "La solucion final es: [{'s': (11, 5, 3, 4, 7, 8, 0, 10, 1, 2, 9, 6), 'ci': 39}]  en  19749  iteraciones  para dimension:  12\n",
            "El tiempo de ramificación y poda es:  46.24612307548523\n"
          ],
          "name": "stdout"
        }
      ]
    },
    {
      "cell_type": "markdown",
      "metadata": {
        "id": "Xc3AYLwRI1qT"
      },
      "source": [
        "Para una matriz de dimensión 12 el algoritmo de ramificación y poda empieza a tardar un tiempo considerable. El algoritmo de fuerza bruta no permite obtener una solución en este caso. Ahora se hará la prueba para una matriz de dimensión 13."
      ]
    },
    {
      "cell_type": "code",
      "metadata": {
        "colab": {
          "base_uri": "https://localhost:8080/"
        },
        "id": "m8cI2mmVJw45",
        "outputId": "12a67f49-53bb-4b8d-929a-efc7b3a0296f"
      },
      "source": [
        "matriz_13d = [[random.randrange(1,25),random.randrange(1,25),random.randrange(1,25),random.randrange(1,25),random.randrange(1,25),random.randrange(1,25),random.randrange(1,25),random.randrange(1,25),random.randrange(1,25),random.randrange(1,25),random.randrange(1,25),random.randrange(1,25),random.randrange(1,25)] for x in range(13)]\r\n",
        "tiempo_inicio_ryp = time.time()\r\n",
        "ramificacionYPoda(matriz_13d)\r\n",
        "tiempo_fin_ryp = time.time()\r\n",
        "print(\"El tiempo de ramificación y poda es: \", tiempo_fin_ryp - tiempo_inicio_ryp)"
      ],
      "execution_count": 31,
      "outputs": [
        {
          "output_type": "stream",
          "text": [
            "La solucion final es: [{'s': (7, 9, 10, 0, 11, 2, 3, 6, 4, 1, 12, 8, 5), 'ci': 40}]  en  8713  iteraciones  para dimension:  13\n",
            "El tiempo de ramificación y poda es:  8.936339378356934\n"
          ],
          "name": "stdout"
        }
      ]
    },
    {
      "cell_type": "markdown",
      "metadata": {
        "id": "kidI5g_XI0SC"
      },
      "source": [
        "Como se puede observar ha tardado un tiempo menor el algoritmo de ramificación y poda con la matriz de dimensión 13 que con la de 12. Esto se debe a que en la matriz de dimensión 13 realizó más de 19000 iteraciones y en la de 13 aproximadamente la mitad. Por último, se va a probar con una de dimensión 14."
      ]
    },
    {
      "cell_type": "code",
      "metadata": {
        "id": "p08XxhZBKHqi"
      },
      "source": [
        "#matriz_14d = [[random.randrange(1,25),random.randrange(1,25),random.randrange(1,25),random.randrange(1,25),random.randrange(1,25),random.randrange(1,25),random.randrange(1,25),random.randrange(1,25),random.randrange(1,25),random.randrange(1,25),random.randrange(1,25),random.randrange(1,25),random.randrange(1,25),random.randrange(1,25)] for x in range(14)]\r\n",
        "#tiempo_inicio_ryp = time.time()\r\n",
        "#ramificacionYPoda(matriz_14d)\r\n",
        "#tiempo_fin_ryp = time.time()\r\n",
        "#print(\"El tiempo de ramificación y poda es: \", tiempo_fin_ryp - tiempo_inicio_ryp)"
      ],
      "execution_count": 34,
      "outputs": []
    },
    {
      "cell_type": "markdown",
      "metadata": {
        "id": "w0E9nZG1LkR8"
      },
      "source": [
        "**A modo de resumen**, el algoritmo de fuerza bruta deja de dar una solución a partir de una matriz de dimensión 12. El de ramificación y poda en este caso a partir de la de dimensión 14 dejaría de funcionar."
      ]
    },
    {
      "cell_type": "markdown",
      "metadata": {
        "id": "IPjqgl1xuN3D"
      },
      "source": [
        "## Descenso del Gradiente"
      ]
    },
    {
      "cell_type": "code",
      "metadata": {
        "id": "z1VF3KhtuWpm"
      },
      "source": [
        "import matplotlib.pyplot as plt  #Generacion de gráficos (otra opcion seaborn)\r\n",
        "import numpy as np               #Tratamiento matriz N-dimensionales y otras (fundamental!) "
      ],
      "execution_count": 35,
      "outputs": []
    },
    {
      "cell_type": "markdown",
      "metadata": {
        "id": "BVDmKhcfGb68"
      },
      "source": [
        "El siguiente paso será definir la función y el gradiente (derivada de la función)"
      ]
    },
    {
      "cell_type": "code",
      "metadata": {
        "id": "Yeg8w8rhGbBT"
      },
      "source": [
        "f  = lambda X:      X[0]**2+X[1]**2      #Funcion\r\n",
        "df = lambda X: [2*X[0] , 2*X[1]]         #Gradiente"
      ],
      "execution_count": 36,
      "outputs": []
    },
    {
      "cell_type": "markdown",
      "metadata": {
        "id": "089f_D07MgVG"
      },
      "source": [
        "A continuación, se va a buscar la solución y se hará una representación gráfica. Se ha intentado que la tasa de aprendizaje vaya cambiando según pasan las iteraciones"
      ]
    },
    {
      "cell_type": "code",
      "metadata": {
        "colab": {
          "base_uri": "https://localhost:8080/",
          "height": 282
        },
        "id": "BpHOq-AMLIcF",
        "outputId": "b080ecaa-1f99-4391-cb17-a529f883c92f"
      },
      "source": [
        "#Prepara los datos para dibujar mapa de niveles de Z\r\n",
        "resolucion = 100 \r\n",
        "rango=2.5\r\n",
        "X=np.linspace(-rango,rango,resolucion) \r\n",
        "Y=np.linspace(-rango,rango,resolucion)\r\n",
        "Z=np.zeros((resolucion,resolucion))\r\n",
        "for ix,x in enumerate(X):\r\n",
        "  for iy,y in enumerate(Y):\r\n",
        "    Z[iy,ix] = f([x,y])\r\n",
        "\r\n",
        "#Pinta el mapa de niveles de Z\r\n",
        "plt.contourf(X,Y,Z,resolucion)\r\n",
        "plt.colorbar() \r\n",
        "\r\n",
        "#Generamos un punto aleatorio\r\n",
        "P=[random.uniform(-2,2  ),random.uniform(-2,2 ) ]\r\n",
        "plt.plot(P[0],P[1],\"o\",c=\"white\")\r\n",
        "\r\n",
        "\r\n",
        "#Iteraciones\r\n",
        "for i in range(500):\r\n",
        "  #Tasa de aprendizaje\r\n",
        "  TA=.1 - 0.0001**i\r\n",
        "  grad = df(P)\r\n",
        "  #print(P,grad)\r\n",
        "  P[0],P[1] = P[0] - TA*grad[0] , P[1] - TA*grad[1]\r\n",
        "  plt.plot(P[0],P[1],\"o\",c=\"red\")\r\n",
        "\r\n",
        "plt.plot(P[0],P[1],\"o\",c=\"green\")\r\n",
        "plt.show()\r\n",
        "print(\"Solucion:\" , P , f(P))"
      ],
      "execution_count": 49,
      "outputs": [
        {
          "output_type": "display_data",
          "data": {
            "image/png": "[encoded data removed]",
            "text/plain": [
              "<Figure size 432x288 with 2 Axes>"
            ]
          },
          "metadata": {
            "tags": [],
            "needs_background": "light"
          }
        },
        {
          "output_type": "stream",
          "text": [
            "Solucion: [6.959226211577363e-50, 1.3940709427194057e-48] 1.948276876280963e-96\n"
          ],
          "name": "stdout"
        }
      ]
    },
    {
      "cell_type": "markdown",
      "metadata": {
        "id": "EX6yEZBQN_BA"
      },
      "source": [
        "A continuación se hará para la función y su respectivo gradiente:"
      ]
    },
    {
      "cell_type": "code",
      "metadata": {
        "id": "tVBtTPEuOC0f"
      },
      "source": [
        "f2 = lambda X: np.sin(1/2 * X[0]**2 - 1/4 * X[1]**2 + 3) * np.cos(2 * X[0] + 1 - np.e**X[1])\r\n",
        "## para obtener el gradiente se deriva respecto a X y respecto a Y\r\n",
        "df2 = lambda X: [-2*np.sin(2*X[0]+1-np.e**X[1])*np.sin(1/2 * X[0]**2 - 1/4 * X[1]**2 + 3)+X[0]*np.cos(2 * X[0] + 1 - np.e**X[1])*np.cos(1/2 * X[0]**2 - 1/4 * X[1]**2 + 3),\r\n",
        "                 np.e**X[1]*np.sin(2 * X[0] + 1 - np.e**X[1])*np.sin(1/2 * X[0]**2 - 1/4 * X[1]**2 + 3) - 1/2*(X[1]*np.cos(2 * X[0] + 1 - np.e**X[1])*np.cos(1/2 * X[0]**2 - 1/4 * X[1]**2 + 3))]"
      ],
      "execution_count": 50,
      "outputs": []
    },
    {
      "cell_type": "code",
      "metadata": {
        "colab": {
          "base_uri": "https://localhost:8080/",
          "height": 282
        },
        "id": "VvG5Tc6PQtjW",
        "outputId": "02056f70-b13d-4f4f-fb5a-2e64a7a2fa1d"
      },
      "source": [
        "#Prepara los datos para dibujar mapa de niveles de Z\r\n",
        "resolucion = 100 \r\n",
        "rango=2.5\r\n",
        "X=np.linspace(-rango,rango,resolucion) \r\n",
        "Y=np.linspace(-rango,rango,resolucion)\r\n",
        "Z=np.zeros((resolucion,resolucion))\r\n",
        "for ix,x in enumerate(X):\r\n",
        "  for iy,y in enumerate(Y):\r\n",
        "    Z[iy,ix] = f2([x,y])\r\n",
        "\r\n",
        "#Pinta el mapa de niveles de Z\r\n",
        "plt.contourf(X,Y,Z,resolucion)\r\n",
        "plt.colorbar() \r\n",
        "\r\n",
        "#Generamos un punto aleatorio\r\n",
        "P=[random.uniform(-2,2  ),random.uniform(-2,2 ) ]\r\n",
        "plt.plot(P[0],P[1],\"o\",c=\"white\")\r\n",
        "\r\n",
        "ayuda = 0.1\r\n",
        "#Iteraciones\r\n",
        "for i in range(500):\r\n",
        "  #Tasa de aprendizaje\r\n",
        "  TA=.1 - ayuda/(i+ayuda)\r\n",
        "  grad = df2(P)\r\n",
        "  #print(P,grad)\r\n",
        "  P[0],P[1] = P[0] - TA*grad[0] , P[1] - TA*grad[1]\r\n",
        "  plt.plot(P[0],P[1],\"o\",c=\"red\")\r\n",
        "\r\n",
        "plt.plot(P[0],P[1],\"o\",c=\"green\")\r\n",
        "plt.show()\r\n",
        "print(\"Solucion:\" , P , f2(P))"
      ],
      "execution_count": 53,
      "outputs": [
        {
          "output_type": "display_data",
          "data": {
            "image/png": "[encoded data removed]",
            "text/plain": [
              "<Figure size 432x288 with 2 Axes>"
            ]
          },
          "metadata": {
            "tags": [],
            "needs_background": "light"
          }
        },
        {
          "output_type": "stream",
          "text": [
            "Solucion: [-0.8228971006210326, -0.4993489032821802] -0.04198326424032736\n"
          ],
          "name": "stdout"
        }
      ]
    }
  ]
}