{
  "nbformat": 4,
  "nbformat_minor": 0,
  "metadata": {
    "colab": {
      "name": "Daniel Oliva - AG3.ipynb",
      "provenance": [],
      "collapsed_sections": [],
      "authorship_tag": "ABX9TyNtQVLCBhBm7XZHj4G4BtMS",
      "include_colab_link": true
    },
    "kernelspec": {
      "name": "python3",
      "display_name": "Python 3"
    }
  },
  "cells": [
    {
      "cell_type": "markdown",
      "metadata": {
        "id": "view-in-github",
        "colab_type": "text"
      },
      "source": [
        "<a href=\"https://colab.research.google.com/github/daniolivaglez/03MAIR-Algoritmos-De-Optimizacion/blob/main/AG3/Daniel_Oliva_AG3.ipynb\" target=\"_parent\"><img src=\"https://colab.research.google.com/assets/colab-badge.svg\" alt=\"Open In Colab\"/></a>"
      ]
    },
    {
      "cell_type": "markdown",
      "metadata": {
        "id": "UF24DHaqGGm1"
      },
      "source": [
        "AG3- Actividad Guiada 3 <br>\r\n",
        "Nombre: Daniel Oliva González <br>\r\n",
        "https://colab.research.google.com/drive/1H4hge994trpr4LVTD5u6Jbx6khRS9Z3H?usp=sharing <br>\r\n",
        "https://github.com/daniolivaglez/03MAIR-Algoritmos-De-Optimizacion/blob/main/AG3/Daniel_Oliva_AG3.ipynb"
      ]
    },
    {
      "cell_type": "code",
      "metadata": {
        "colab": {
          "base_uri": "https://localhost:8080/",
          "height": 0
        },
        "id": "jp83DIElGFhW",
        "outputId": "8cfaa467-9ffd-487e-d816-6d0ebb2f6de3"
      },
      "source": [
        "!pip install requests    #Hacer llamadas http a paginas de la red\r\n",
        "!pip install tsplib95    #Modulo para las instancias del problema del TSP"
      ],
      "execution_count": 1,
      "outputs": [
        {
          "output_type": "stream",
          "text": [
            "Requirement already satisfied: requests in /usr/local/lib/python3.6/dist-packages (2.23.0)\n",
            "Requirement already satisfied: urllib3!=1.25.0,!=1.25.1,<1.26,>=1.21.1 in /usr/local/lib/python3.6/dist-packages (from requests) (1.24.3)\n",
            "Requirement already satisfied: idna<3,>=2.5 in /usr/local/lib/python3.6/dist-packages (from requests) (2.10)\n",
            "Requirement already satisfied: certifi>=2017.4.17 in /usr/local/lib/python3.6/dist-packages (from requests) (2020.12.5)\n",
            "Requirement already satisfied: chardet<4,>=3.0.2 in /usr/local/lib/python3.6/dist-packages (from requests) (3.0.4)\n",
            "Collecting tsplib95\n",
            "  Downloading https://files.pythonhosted.org/packages/a0/2b/b1932d3674758ec5f49afa72d4519334a5ac2aac4d96cfd416eb872a1959/tsplib95-0.7.1-py2.py3-none-any.whl\n",
            "Collecting Deprecated~=1.2.9\n",
            "  Downloading https://files.pythonhosted.org/packages/76/a1/05d7f62f956d77b23a640efc650f80ce24483aa2f85a09c03fb64f49e879/Deprecated-1.2.10-py2.py3-none-any.whl\n",
            "Requirement already satisfied: tabulate~=0.8.7 in /usr/local/lib/python3.6/dist-packages (from tsplib95) (0.8.7)\n",
            "Requirement already satisfied: Click>=6.0 in /usr/local/lib/python3.6/dist-packages (from tsplib95) (7.1.2)\n",
            "Requirement already satisfied: networkx~=2.1 in /usr/local/lib/python3.6/dist-packages (from tsplib95) (2.5)\n",
            "Requirement already satisfied: wrapt<2,>=1.10 in /usr/local/lib/python3.6/dist-packages (from Deprecated~=1.2.9->tsplib95) (1.12.1)\n",
            "Requirement already satisfied: decorator>=4.3.0 in /usr/local/lib/python3.6/dist-packages (from networkx~=2.1->tsplib95) (4.4.2)\n",
            "Installing collected packages: Deprecated, tsplib95\n",
            "Successfully installed Deprecated-1.2.10 tsplib95-0.7.1\n"
          ],
          "name": "stdout"
        }
      ]
    },
    {
      "cell_type": "code",
      "metadata": {
        "id": "MWOymyoJGSnk"
      },
      "source": [
        "import tsplib95       #Modulo para las instancias del problema del TSP\r\n",
        "import random         #Modulo para generar números aleatorios\r\n",
        "import math\r\n",
        "import copy           #Para copia profunda de estructuras de datos(en python la asignación es por referencia)\r\n",
        "from math import e\r\n",
        "import numpy as np\r\n"
      ],
      "execution_count": 2,
      "outputs": []
    },
    {
      "cell_type": "markdown",
      "metadata": {
        "id": "tWLOVFIRGB2O"
      },
      "source": [
        "Ahora se va a descargar el fichero para realizar la actividad. "
      ]
    },
    {
      "cell_type": "code",
      "metadata": {
        "colab": {
          "base_uri": "https://localhost:8080/",
          "height": 0
        },
        "id": "f0i3L32wRpIs",
        "outputId": "aa68952b-1f1a-42eb-c241-33442375574b"
      },
      "source": [
        "import urllib.request #Hacer llamadas http a paginas de la red\r\n",
        "\r\n",
        "#http://elib.zib.de/pub/mp-testdata/tsp/tsplib/\r\n",
        "#Documentacion : \r\n",
        "  # http://comopt.ifi.uni-heidelberg.de/software/TSPLIB95/tsp95.pdf\r\n",
        "  # https://tsplib95.readthedocs.io/en/stable/pages/usage.html\r\n",
        "  # https://tsplib95.readthedocs.io/en/v0.6.1/modules.html\r\n",
        "  # https://pypi.org/project/tsplib95/\r\n",
        "\r\n",
        "#Descargamos el fichero de datos(Matriz de distancias)\r\n",
        "file = \"swiss42.tsp\" ; \r\n",
        "urllib.request.urlretrieve(\"http://elib.zib.de/pub/mp-testdata/tsp/tsplib/tsp/swiss42.tsp\", file) \r\n",
        "\r\n",
        "#Coordendas 51-city problem (Christofides/Eilon)\r\n",
        "#file = \"eil51.tsp\" ; urllib.request.urlretrieve(\"http://elib.zib.de/pub/mp-testdata/tsp/tsplib/tsp/eil51.tsp\", file)\r\n",
        "\r\n",
        "#Coordenadas - 48 capitals of the US (Padberg/Rinaldi)\r\n",
        "#file = \"att48.tsp\" ; urllib.request.urlretrieve(\"http://elib.zib.de/pub/mp-testdata/tsp/tsplib/tsp/att48.tsp\", file)\r\n"
      ],
      "execution_count": 3,
      "outputs": [
        {
          "output_type": "execute_result",
          "data": {
            "text/plain": [
              "('swiss42.tsp', <http.client.HTTPMessage at 0x7f5df9d32ef0>)"
            ]
          },
          "metadata": {
            "tags": []
          },
          "execution_count": 3
        }
      ]
    },
    {
      "cell_type": "code",
      "metadata": {
        "id": "6GZ1or53R7sC"
      },
      "source": [
        "#Carga de datos y generación de objeto problem\r\n",
        "\r\n",
        "problem = tsplib95.load(file)\r\n",
        "\r\n",
        "#Nodos\r\n",
        "Nodos = list(problem.get_nodes())\r\n",
        "\r\n",
        "#Aristas\r\n",
        "Aristas = list(problem.get_edges())"
      ],
      "execution_count": 4,
      "outputs": []
    },
    {
      "cell_type": "code",
      "metadata": {
        "colab": {
          "base_uri": "https://localhost:8080/",
          "height": 0
        },
        "id": "nBGFSMRQR9_o",
        "outputId": "7eb5719f-100e-4d86-d839-0af77c6d548e"
      },
      "source": [
        "#Probamos algunas funciones del objeto problem\r\n",
        "\r\n",
        "#Distancia entre nodos\r\n",
        "problem.get_weight(0, 1)\r\n",
        "\r\n",
        "#Todas las funciones\r\n",
        "#Documentación: https://tsplib95.readthedocs.io/en/v0.6.1/modules.html\r\n",
        "#dir(problem)"
      ],
      "execution_count": 5,
      "outputs": [
        {
          "output_type": "execute_result",
          "data": {
            "text/plain": [
              "15"
            ]
          },
          "metadata": {
            "tags": []
          },
          "execution_count": 5
        }
      ]
    },
    {
      "cell_type": "markdown",
      "metadata": {
        "id": "suL35t-gTPTx"
      },
      "source": [
        "En la siguiente celda se definirán varias funciones básicas que ayudarán a encontrar soluciones."
      ]
    },
    {
      "cell_type": "code",
      "metadata": {
        "id": "U8v5OUDhTVm2"
      },
      "source": [
        "#Se genera una solucion aleatoria con comienzo en en el nodo 0\r\n",
        "def crear_solucion(Nodos): \r\n",
        "  solucion = [Nodos[0]]\r\n",
        "  for n in Nodos[1:]:\r\n",
        "    solucion = solucion + [random.choice(list(set(Nodos) - set({Nodos[0]}) - set(solucion)))]\r\n",
        "  return solucion \r\n",
        "\r\n",
        "#Devuelve la distancia entre dos nodos\r\n",
        "def distancia(a,b, problem):\r\n",
        "  return problem.get_weight(a,b)\r\n",
        "\r\n",
        "#Devuelve la distancia total de una trayectoria/solucion\r\n",
        "def distancia_total(solucion, problem):\r\n",
        "  distancia_total = 0\r\n",
        "  for i in range(len(solucion)-1):\r\n",
        "    distancia_total += distancia(solucion[i] ,solucion[i+1] ,  problem)\r\n",
        "  return distancia_total + distancia(solucion[len(solucion)-1] ,solucion[0], problem)"
      ],
      "execution_count": 6,
      "outputs": []
    },
    {
      "cell_type": "markdown",
      "metadata": {
        "id": "yuKThbDNV5no"
      },
      "source": [
        "El siguiente paso será implementar el algoritmo de búsqueda aleatoria."
      ]
    },
    {
      "cell_type": "code",
      "metadata": {
        "colab": {
          "base_uri": "https://localhost:8080/",
          "height": 0
        },
        "id": "FZP_NrrGV4-H",
        "outputId": "4d84e9e5-a7b9-430a-ccb6-17a94bd13a65"
      },
      "source": [
        "def busqueda_aleatoria(problem, N):\r\n",
        "  \r\n",
        "  Nodos = list(problem.get_nodes())\r\n",
        "  \r\n",
        "  mejor_solucion = []\r\n",
        "  mejor_distancia = 10e100                          #Inicializamos con un valor alto\r\n",
        "  \r\n",
        "  for i in range(N):                                #Criterio de parada: repetir N veces pero podemos incluir otros\r\n",
        "    solucion = crear_solucion(Nodos)                #Genera una solucion aleatoria\r\n",
        "    distancia = distancia_total(solucion, problem)  #Calcula el valor objetivo(distancia total)\r\n",
        "    \r\n",
        "    if distancia < mejor_distancia:                 #Compara con la mejor obtenida hasta ahora\r\n",
        "      mejor_solucion = solucion\r\n",
        "      mejor_distancia = distancia\r\n",
        "      \r\n",
        "      \r\n",
        "  print(\"Mejor solución:\" , mejor_solucion) \r\n",
        "  print(\"Distancia     :\" , mejor_distancia) \r\n",
        "  return mejor_solucion  \r\n",
        "\r\n",
        "    \r\n",
        "    \r\n",
        "solucion = busqueda_aleatoria(problem, 20000)    \r\n",
        " "
      ],
      "execution_count": 7,
      "outputs": [
        {
          "output_type": "stream",
          "text": [
            "Mejor solución: [0, 13, 12, 34, 33, 15, 1, 38, 19, 10, 9, 41, 23, 21, 3, 7, 32, 16, 14, 20, 35, 17, 37, 31, 27, 5, 2, 22, 28, 36, 18, 11, 4, 6, 30, 39, 24, 29, 40, 26, 25, 8]\n",
            "Distancia     : 3703\n"
          ],
          "name": "stdout"
        }
      ]
    },
    {
      "cell_type": "markdown",
      "metadata": {
        "id": "EXepkxhNlRin"
      },
      "source": [
        "El próximo paso es crear la función que genera soluciones vecinas. En el caso de la práctica guiada es realizando el cambio de dos posiciones. Se va a introducir una **modificación** de tal forma que se cree una sublista interna a la solución y se invierta el orden."
      ]
    },
    {
      "cell_type": "code",
      "metadata": {
        "colab": {
          "base_uri": "https://localhost:8080/",
          "height": 0
        },
        "id": "Gqn_ESeGclR1",
        "outputId": "0e217140-8f02-4584-c2a7-a47398ab2af3"
      },
      "source": [
        "def genera_vecina(solucion):\r\n",
        "  #Generador de soluciones vecinas: 2-opt (intercambiar 2 nodos) Si hay N nodos se generan (N-1)x(N-2)/2 soluciones\r\n",
        "  #print(solucion)\r\n",
        "  mejor_solucion = []\r\n",
        "  mejor_distancia = 10e100\r\n",
        "  for i in range(1,len(solucion)-1):          #Recorremos todos los nodos en bucle doble para evaluar todos los intercambios 2-opt\r\n",
        "    for j in range(i+1, len(solucion)):\r\n",
        "      \r\n",
        "      #Se genera una nueva solución intercambiando los dos nodos i,j:\r\n",
        "      #  (usamos el operador + que para listas en python las concatena) : ej.: [1,2] + [3] = [1,2,3]\r\n",
        "      ## vecina = solucion[:i] + [solucion[j]] + solucion[i+1:j] + [solucion[i]] + solucion[j+1:]  \r\n",
        "      \r\n",
        "    ############################################### MODIFICACIÓN #######################################################\r\n",
        "      vecina = solucion[:i] + list(reversed(solucion[i:j])) + solucion[j:] \r\n",
        "    #####################################################################################################################\r\n",
        "      #Se evalua la nueva solución ...\r\n",
        "      distancia_vecina = distancia_total(vecina, problem)         \r\n",
        "\r\n",
        "      #... para guardarla si mejora las anteriores\r\n",
        "      if distancia_vecina <= mejor_distancia:\r\n",
        "        mejor_distancia = distancia_vecina\r\n",
        "        mejor_solucion = vecina\r\n",
        "  return mejor_solucion\r\n",
        "\r\n",
        "\r\n",
        "#solucion = [1, 47, 13, 41, 40, 19, 42, 44, 37, 5, 22, 28, 3, 2, 29, 21, 50, 34, 30, 9, 16, 11, 38, 49, 10, 39, 33, 45, 15, 24, 43, 26, 31, 36, 35, 20, 8, 7, 23, 48, 27, 12, 17, 4, 18, 25, 14, 6, 51, 46, 32]\r\n",
        "print(\"Distancia Solucion Inicial:\" , distancia_total(solucion, problem))\r\n",
        " \r\n",
        "\r\n",
        "nueva_solucion = genera_vecina(solucion)\r\n",
        "print(\"Distancia Solucion Local:\", distancia_total(nueva_solucion, problem))\r\n",
        "\r\n",
        " "
      ],
      "execution_count": 8,
      "outputs": [
        {
          "output_type": "stream",
          "text": [
            "Distancia Solucion Inicial: 3703\n",
            "Distancia Solucion Local: 3460\n"
          ],
          "name": "stdout"
        }
      ]
    },
    {
      "cell_type": "code",
      "metadata": {
        "colab": {
          "base_uri": "https://localhost:8080/",
          "height": 0
        },
        "id": "w9aL4pOqdX5l",
        "outputId": "748eeb5f-6d05-43b9-e79e-c2e648b8551f"
      },
      "source": [
        "#Busqueda Local:\r\n",
        "#  - Sobre el operador de vecindad 2-opt(funcion genera_vecina)\r\n",
        "#  - Sin criterio de parada, se para cuando no es posible mejorar.\r\n",
        "def busqueda_local(problem):\r\n",
        "  mejor_solucion = []\r\n",
        "  \r\n",
        "  #Generar una solucion inicial de referencia(aleatoria)\r\n",
        "  solucion_referencia = crear_solucion(Nodos)\r\n",
        "  mejor_distancia = distancia_total(solucion_referencia, problem)\r\n",
        "\r\n",
        "  iteracion=0   #Un contador para saber las iteraciones que hacemos\r\n",
        "  while(1):\r\n",
        "    iteracion +=1     #Incrementamos el contador\r\n",
        "    #print('#',iteracion)\r\n",
        "\r\n",
        "    #Obtenemos la mejor vecina ...\r\n",
        "    vecina = genera_vecina(solucion_referencia)\r\n",
        "    #... y la evaluamos para ver si mejoramos respecto a lo encontrado hasta el momento\r\n",
        "    distancia_vecina = distancia_total(vecina, problem)\r\n",
        " \r\n",
        "    #Si no mejoramos hay que terminas. Hemos llegado a un minimo local(según nuestro operador de vencindad)\r\n",
        "    if distancia_vecina < mejor_distancia:\r\n",
        "      mejor_solucion = copy.deepcopy(vecina)   #Con copia profunda. Las copias en python son por referencia \r\n",
        "      mejor_distancia = distancia_vecina\r\n",
        "    else:\r\n",
        "      print(\"En la iteracion \", iteracion, \", la mejor solución encontrada es:\" , mejor_solucion) \r\n",
        "      print(\"Distancia     :\" , mejor_distancia) \r\n",
        "      return mejor_solucion\r\n",
        "      \r\n",
        "    solucion_referencia = vecina\r\n",
        " \r\n",
        " \r\n",
        "sol = busqueda_local(problem )  \r\n"
      ],
      "execution_count": 9,
      "outputs": [
        {
          "output_type": "stream",
          "text": [
            "En la iteracion  36 , la mejor solución encontrada es: [0, 1, 7, 31, 35, 36, 17, 37, 15, 16, 14, 19, 13, 5, 6, 3, 4, 26, 18, 12, 11, 25, 10, 8, 9, 41, 23, 21, 40, 24, 39, 22, 38, 30, 29, 28, 2, 27, 32, 34, 20, 33]\n",
            "Distancia     : 1404\n"
          ],
          "name": "stdout"
        }
      ]
    },
    {
      "cell_type": "markdown",
      "metadata": {
        "id": "TJLOJeRJppHD"
      },
      "source": [
        "Ahora se va a simular la forja de metales con la técnica de recocido simulado."
      ]
    },
    {
      "cell_type": "code",
      "metadata": {
        "colab": {
          "base_uri": "https://localhost:8080/",
          "height": 0
        },
        "id": "OpjuESKSpnyK",
        "outputId": "a5c03283-bec3-424b-bebf-d8ff6242f49a"
      },
      "source": [
        "#Generador de 1 solucion vecina 2-opt aleatoria (intercambiar 2 nodos)\r\n",
        "def genera_vecina_aleatorio(solucion):\r\n",
        "\r\n",
        "  #Se eligen dos nodos aleatoriamente\r\n",
        "  i,j = sorted(random.sample( range(1,len(solucion)) , 2))\r\n",
        "  \r\n",
        "  #Devuelve una nueva solución pero intercambiando los dos nodos elegidos al azar\r\n",
        "  return solucion[:i] + [solucion[j]] + solucion[i+1:j] + [solucion[i]] + solucion[j+1:]\r\n",
        "  \r\n",
        " \r\n",
        "genera_vecina_aleatorio(solucion)"
      ],
      "execution_count": 12,
      "outputs": [
        {
          "output_type": "execute_result",
          "data": {
            "text/plain": [
              "[0,\n",
              " 13,\n",
              " 12,\n",
              " 34,\n",
              " 33,\n",
              " 15,\n",
              " 1,\n",
              " 38,\n",
              " 19,\n",
              " 10,\n",
              " 9,\n",
              " 40,\n",
              " 23,\n",
              " 21,\n",
              " 3,\n",
              " 7,\n",
              " 32,\n",
              " 16,\n",
              " 14,\n",
              " 20,\n",
              " 35,\n",
              " 17,\n",
              " 37,\n",
              " 31,\n",
              " 27,\n",
              " 5,\n",
              " 2,\n",
              " 22,\n",
              " 28,\n",
              " 36,\n",
              " 18,\n",
              " 11,\n",
              " 4,\n",
              " 6,\n",
              " 30,\n",
              " 39,\n",
              " 24,\n",
              " 29,\n",
              " 41,\n",
              " 26,\n",
              " 25,\n",
              " 8]"
            ]
          },
          "metadata": {
            "tags": []
          },
          "execution_count": 12
        }
      ]
    },
    {
      "cell_type": "markdown",
      "metadata": {
        "id": "M8CeAyJ2qBjg"
      },
      "source": [
        "Para esta simulación se necesita la función de probabilidad y otra que permita bajar la temperatura"
      ]
    },
    {
      "cell_type": "code",
      "metadata": {
        "id": "dM3LXO-sp_Dm"
      },
      "source": [
        "#Funcion de probabilidad para aceptar peores soluciones\r\n",
        "def probabilidad(T,d):\r\n",
        "  if random.random() <  math.exp( -1*d / T)  :\r\n",
        "    return True\r\n",
        "  else:\r\n",
        "    return False\r\n",
        "\r\n",
        "#Funcion de descenso de temperatura\r\n",
        "def bajar_temperatura(T):\r\n",
        "  return T*0.99"
      ],
      "execution_count": 10,
      "outputs": []
    },
    {
      "cell_type": "markdown",
      "metadata": {
        "id": "DHZ5vNIorDRf"
      },
      "source": [
        "Ahora se implementará la función de recocido simulado:"
      ]
    },
    {
      "cell_type": "code",
      "metadata": {
        "colab": {
          "base_uri": "https://localhost:8080/",
          "height": 0
        },
        "id": "87VainrarCtx",
        "outputId": "6bd7b030-407f-46bb-af14-3667473f73fa"
      },
      "source": [
        "def recocido_simulado(problem, TEMPERATURA ):\r\n",
        "  #problem = datos del problema\r\n",
        "  #T = Temperatura\r\n",
        "  \r\n",
        "  ## antes de nada se establecen las soluciones iniciales\r\n",
        "  solucion_referencia = crear_solucion(Nodos)\r\n",
        "  distancia_referencia = distancia_total(solucion_referencia, problem)\r\n",
        "  \r\n",
        "  ## se inicializan las variables que guardarán las soluciones finales\r\n",
        "  mejor_solucion = []\r\n",
        "  mejor_distancia = 10e100\r\n",
        "  \r\n",
        "  \r\n",
        "  N=0\r\n",
        "  while TEMPERATURA > .0001:\r\n",
        "    N+=1\r\n",
        "    #Genera una solución vecina\r\n",
        "    vecina =genera_vecina_aleatorio(solucion_referencia)\r\n",
        "    \r\n",
        "    #Calcula su valor(distancia)\r\n",
        "    distancia_vecina = distancia_total(vecina, problem)\r\n",
        "      \r\n",
        "    #Si es la mejor solución de todas se guarda(siempre!!!)\r\n",
        "    if distancia_vecina < mejor_distancia:\r\n",
        "        mejor_solucion = vecina\r\n",
        "        mejor_distancia = distancia_vecina\r\n",
        "    \r\n",
        "    #Si la nueva vecina es mejor se cambia  \r\n",
        "    #Si es peor se cambia según una probabilidad que depende de T y delta(distancia_referencia - distancia_vecina)\r\n",
        "    if distancia_vecina < distancia_referencia or probabilidad(TEMPERATURA, abs(distancia_referencia - distancia_vecina) ) :\r\n",
        "      solucion_referencia = copy.deepcopy(vecina)\r\n",
        "      distancia_referencia = distancia_vecina\r\n",
        "\r\n",
        "    #Bajamos la temperatura\r\n",
        "    TEMPERATURA = bajar_temperatura(TEMPERATURA)\r\n",
        " \r\n",
        "  print(\"La mejor solución encontrada es \" , end=\"\")\r\n",
        "  print(mejor_solucion)\r\n",
        "  print(\"con una distancia total de \" , end=\"\")\r\n",
        "  print(mejor_distancia)\r\n",
        "  return mejor_solucion\r\n",
        "\r\n",
        "sol  = recocido_simulado(problem, 10000000)"
      ],
      "execution_count": 13,
      "outputs": [
        {
          "output_type": "stream",
          "text": [
            "La mejor solución encontrada es [0, 20, 33, 12, 11, 18, 4, 27, 2, 10, 25, 29, 30, 34, 32, 28, 3, 1, 26, 5, 13, 19, 16, 15, 14, 6, 8, 9, 39, 38, 22, 23, 41, 40, 24, 21, 7, 37, 31, 36, 35, 17]\n",
            "con una distancia total de 2155\n"
          ],
          "name": "stdout"
        }
      ]
    }
  ]
}