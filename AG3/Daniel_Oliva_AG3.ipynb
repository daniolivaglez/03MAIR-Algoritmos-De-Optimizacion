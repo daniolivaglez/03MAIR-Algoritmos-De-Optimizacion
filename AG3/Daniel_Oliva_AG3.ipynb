{
  "nbformat": 4,
  "nbformat_minor": 0,
  "metadata": {
    "colab": {
      "name": "Daniel Oliva - AG3.ipynb",
      "provenance": [],
      "authorship_tag": "ABX9TyOJf8qobc5QIgGpGVDx8MpL",
      "include_colab_link": true
    },
    "kernelspec": {
      "name": "python3",
      "display_name": "Python 3"
    }
  },
  "cells": [
    {
      "cell_type": "markdown",
      "metadata": {
        "id": "view-in-github",
        "colab_type": "text"
      },
      "source": [
        "<a href=\"https://colab.research.google.com/github/daniolivaglez/03MAIR-Algoritmos-De-Optimizacion/blob/main/AG3/Daniel_Oliva_AG3.ipynb\" target=\"_parent\"><img src=\"https://colab.research.google.com/assets/colab-badge.svg\" alt=\"Open In Colab\"/></a>"
      ]
    },
    {
      "cell_type": "code",
      "metadata": {
        "id": "j5nQ1JbLFR10"
      },
      "source": [
        "AG3- Actividad Guiada 3\r\n",
        "Nombre: Daniel Oliva González\r\n",
        "https://colab.research.google.com/drive/1H4hge994trpr4LVTD5u6Jbx6khRS9Z3H?usp=sharing"
      ],
      "execution_count": null,
      "outputs": []
    }
  ]
}