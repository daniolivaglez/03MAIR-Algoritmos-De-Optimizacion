{
  "nbformat": 4,
  "nbformat_minor": 0,
  "metadata": {
    "colab": {
      "name": "Prog_lineal_PULP.ipynb",
      "provenance": [],
      "authorship_tag": "ABX9TyMfc3MCBBFJDp2EF4hxORud",
      "include_colab_link": true
    },
    "kernelspec": {
      "name": "python3",
      "display_name": "Python 3"
    }
  },
  "cells": [
    {
      "cell_type": "markdown",
      "metadata": {
        "id": "view-in-github",
        "colab_type": "text"
      },
      "source": [
        "<a href=\"https://colab.research.google.com/github/daniolivaglez/03MAIR-Algoritmos-De-Optimizacion/blob/main/Prog_lineal_PULP.ipynb\" target=\"_parent\"><img src=\"https://colab.research.google.com/assets/colab-badge.svg\" alt=\"Open In Colab\"/></a>"
      ]
    },
    {
      "cell_type": "code",
      "metadata": {
        "id": "m35dFG8O-tP0"
      },
      "source": [
        "from pulp import LpMaximize, LpProblem, LpStatus, lpSum, LpVariable, GLPK"
      ],
      "execution_count": 34,
      "outputs": []
    },
    {
      "cell_type": "code",
      "metadata": {
        "id": "pMsN_mNt_exB"
      },
      "source": [
        "## se va a crear el modelo a usar\r\n",
        "modelo = LpProblem(name=\"ejercicio-clase\", sense=LpMaximize)"
      ],
      "execution_count": 27,
      "outputs": []
    },
    {
      "cell_type": "code",
      "metadata": {
        "id": "6tyBzp7Q_q0g"
      },
      "source": [
        "## a continuación, se definen las variables a usar en el modelo\r\n",
        "x = LpVariable(name=\"x\", lowBound=0)\r\n",
        "y = LpVariable(name=\"y\", lowBound=0)\r\n",
        "z = LpVariable(name=\"z\", lowBound=0)"
      ],
      "execution_count": 28,
      "outputs": []
    },
    {
      "cell_type": "code",
      "metadata": {
        "id": "NFmR84vy_zsU"
      },
      "source": [
        "## el siguiente paso será definir las restricciones que regirán el modelo\r\n",
        "restriccion_1 = 15 * x + 7.5 * y + 5 * z <= 315\r\n",
        "restriccion_2 = 2 * x + 3 * y + 2 * z <= 110\r\n",
        "restriccion_3 = x + y + z <= 50\r\n",
        "r_x , r_y, r_z = x >= 0, y >= 0, z >= 0 \r\n",
        "## se crea una lista con todas las restricciones\r\n",
        "lista_restricciones = list([restriccion_1, restriccion_2, restriccion_3, r_x, r_y, r_z])"
      ],
      "execution_count": 29,
      "outputs": []
    },
    {
      "cell_type": "code",
      "metadata": {
        "id": "MIzoEMEKB2V0"
      },
      "source": [
        "## para continuar hay que añadir estas restricciones al modelo creado\r\n",
        "for i in range(0, len(lista_restricciones)):\r\n",
        "  modelo += (lista_restricciones[i], \"Restricción %r\" %(i+1))"
      ],
      "execution_count": 30,
      "outputs": []
    },
    {
      "cell_type": "code",
      "metadata": {
        "id": "YmcwgFSAEHoQ"
      },
      "source": [
        "## ahora se crea la función objetivo y se añade\r\n",
        "funcion_objetivo = 200 * x + 150 * y + 120 * z\r\n",
        "modelo += funcion_objetivo"
      ],
      "execution_count": 31,
      "outputs": []
    },
    {
      "cell_type": "code",
      "metadata": {
        "colab": {
          "base_uri": "https://localhost:8080/"
        },
        "id": "KDuXFTD8Eex1",
        "outputId": "6aa449b5-be9d-4ffb-b718-3cfa721da679"
      },
      "source": [
        "## se va a ver el modelo, donde se incluye la función objetivo, si hay que maximizar \r\n",
        "## o minimizar, todas las restricciones añadidas así como los nombres de ellas y las variables usadas\r\n",
        "modelo"
      ],
      "execution_count": 32,
      "outputs": [
        {
          "output_type": "execute_result",
          "data": {
            "text/plain": [
              "ejercicio-clase:\n",
              "MAXIMIZE\n",
              "200*x + 150*y + 120*z + 0\n",
              "SUBJECT TO\n",
              "Restricción_1: 15 x + 7.5 y + 5 z <= 315\n",
              "\n",
              "Restricción_2: 2 x + 3 y + 2 z <= 110\n",
              "\n",
              "Restricción_3: x + y + z <= 50\n",
              "\n",
              "Restricción_4: x >= 0\n",
              "\n",
              "Restricción_5: y >= 0\n",
              "\n",
              "Restricción_6: z >= 0\n",
              "\n",
              "VARIABLES\n",
              "x Continuous\n",
              "y Continuous\n",
              "z Continuous"
            ]
          },
          "metadata": {
            "tags": []
          },
          "execution_count": 32
        }
      ]
    },
    {
      "cell_type": "code",
      "metadata": {
        "colab": {
          "base_uri": "https://localhost:8080/"
        },
        "id": "ciLTf7SdGJnc",
        "outputId": "dcad651f-0577-4ff7-d2db-33723461c503"
      },
      "source": [
        "solucion = modelo.solve()\r\n",
        "## para cada variable se va a imprimir el valor correspondiente\r\n",
        "for var in solucion.variables():\r\n",
        "  print(f\"{var.name}: {var.value()}\")"
      ],
      "execution_count": 36,
      "outputs": [
        {
          "output_type": "stream",
          "text": [
            "x: 4.0\n",
            "y: 10.0\n",
            "z: 36.0\n"
          ],
          "name": "stdout"
        }
      ]
    },
    {
      "cell_type": "markdown",
      "metadata": {
        "id": "ygcqjhA1JgGU"
      },
      "source": [
        "En el siguiente enlace se encuentra explicado con varios ejemplos la resolución de problemas de programación lineal. Se resuelven con la librería scipy ya usada anteriormente en clase y la librería que se usa para resolver este ejercicio: \r\n",
        "https://realpython.com/linear-programming-python/\r\n",
        "\r\n"
      ]
    }
  ]
}