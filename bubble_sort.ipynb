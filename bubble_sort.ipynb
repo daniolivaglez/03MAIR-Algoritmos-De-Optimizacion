{
  "nbformat": 4,
  "nbformat_minor": 0,
  "metadata": {
    "colab": {
      "name": "bubble_sort.ipynb",
      "provenance": [],
      "authorship_tag": "ABX9TyOi88Xl+BX2UfqT+Rakzeu1",
      "include_colab_link": true
    },
    "kernelspec": {
      "name": "python3",
      "display_name": "Python 3"
    }
  },
  "cells": [
    {
      "cell_type": "markdown",
      "metadata": {
        "id": "view-in-github",
        "colab_type": "text"
      },
      "source": [
        "<a href=\"https://colab.research.google.com/github/daniolivaglez/03MAIR-Algoritmos-De-Optimizacion/blob/main/bubble_sort.ipynb\" target=\"_parent\"><img src=\"https://colab.research.google.com/assets/colab-badge.svg\" alt=\"Open In Colab\"/></a>"
      ]
    },
    {
      "cell_type": "code",
      "metadata": {
        "colab": {
          "base_uri": "https://localhost:8080/"
        },
        "id": "RI1vaKfNEGfN",
        "outputId": "9ae80786-911d-4ebd-df93-9e0c68b67e06"
      },
      "source": [
        "a = [2,4,30,5,6,1,8,3,7]\r\n",
        "\r\n",
        "def burbuja(a):\r\n",
        "  for i in range(0,len(a)-1):\r\n",
        "    for j in range(0, len(a) - i - 1):\r\n",
        "      if a[j] > a[j+1]:\r\n",
        "        a[j], a[j+1] = a[j+1], a[j]\r\n",
        "  return a\r\n",
        "\r\n",
        "burbuja(a)"
      ],
      "execution_count": 5,
      "outputs": [
        {
          "output_type": "execute_result",
          "data": {
            "text/plain": [
              "[1, 2, 3, 4, 5, 6, 7, 8, 30]"
            ]
          },
          "metadata": {
            "tags": []
          },
          "execution_count": 5
        }
      ]
    }
  ]
}